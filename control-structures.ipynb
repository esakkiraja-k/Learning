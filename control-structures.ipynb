{
 "cells": [
  {
   "cell_type": "markdown",
   "id": "64ecd061",
   "metadata": {},
   "source": [
    "# Iteration with Loops\n",
    "To iterate in Python, there are several options. A for loop can be used to iterate through a list or dictionary. Instead of the traditional for loop where we initialize a value i and increase / decrease it till it reaches an end value, Python's for loops are for-each in nature. This means that when you are iterating using a for loop over a list, you actually iterate over the items of that list.\n",
    "\n",
    "If you also need the index values from the list while iterating, another possibility is to use enumerate, which is shown in an example below.\n",
    "\n",
    "An additional way to iterate in Python is with a while loop. Just as in other programming languages, the while loop will repeat while some conditional statement is true. You will see more on conditional statements shortly, but first, here are examples of iteration with for and while loops."
   ]
  },
  {
   "cell_type": "code",
   "execution_count": 2,
   "id": "86cb6d63",
   "metadata": {},
   "outputs": [
    {
     "name": "stdout",
     "output_type": "stream",
     "text": [
      "value is0\n",
      "value is1\n",
      "value is2\n",
      "value is3\n"
     ]
    }
   ],
   "source": [
    "#for loops\n",
    "my_list = [0,1,2,3]\n",
    "for item in my_list:\n",
    "    print(\"value is\" + str(item))"
   ]
  },
  {
   "cell_type": "code",
   "execution_count": 5,
   "id": "a2d53d76",
   "metadata": {},
   "outputs": [
    {
     "name": "stdout",
     "output_type": "stream",
     "text": [
      "index is 0value is0\n",
      "index is 1value is1\n",
      "index is 2value is2\n",
      "index is 3value is3\n"
     ]
    }
   ],
   "source": [
    "#print each index and value \n",
    "for i, value in enumerate(my_list):\n",
    "    print(\"index is \" +str(i) + \"value is\" + str(value))"
   ]
  },
  {
   "cell_type": "code",
   "execution_count": 1,
   "id": "676e64a5",
   "metadata": {},
   "outputs": [
    {
     "name": "stdout",
     "output_type": "stream",
     "text": [
      " I value is0\n",
      " I value is1\n",
      " I value is2\n",
      " I value is3\n",
      " I value is4\n",
      " I value is5\n",
      " I value is6\n",
      " I value is7\n",
      " I value is8\n",
      " I value is9\n"
     ]
    }
   ],
   "source": [
    "#while loop\n",
    "i = 0;\n",
    "while(i < 10):\n",
    "    print(\" I value is\" +str(i))\n",
    "    i += 1\n"
   ]
  },
  {
   "cell_type": "code",
   "execution_count": 5,
   "id": "34a4006b",
   "metadata": {},
   "outputs": [
    {
     "name": "stdout",
     "output_type": "stream",
     "text": [
      "key is a value is 1\n",
      "key is b value is 2\n",
      "key is c value is 3\n"
     ]
    }
   ],
   "source": [
    "# Print each key and dictionary value. Note that you can use the \"in\" keyword \n",
    "# to iterate over dictionary keys\n",
    "my_dic = {'a':'1','b':'2','c':'3'}\n",
    "for key in my_dic:\n",
    "    print(\"key is \" + key + \" value is \" +my_dic[key])"
   ]
  },
  {
   "cell_type": "code",
   "execution_count": 10,
   "id": "d2f44d21",
   "metadata": {},
   "outputs": [
    {
     "name": "stdout",
     "output_type": "stream",
     "text": [
      "[0, 1, 2]\n"
     ]
    }
   ],
   "source": [
    "#dictionary with array as a value\n",
    "my_dic = {'a':[0,1,2,3],'b':[0,1,2,3],'c':[0,1,2,3]}\n",
    "i = 0\n",
    "output = []\n",
    "for key in my_dic:\n",
    "    output.append(my_dic[key][i])\n",
    "    i += 1;\n",
    "print(output)"
   ]
  },
  {
   "cell_type": "markdown",
   "id": "0ec3d66a",
   "metadata": {},
   "source": [
    "#conditional statements\n",
    "Conditional statements use boolean logic to help guide our decision process: the statement is true or false. These statements are structured using comparison operators: greater than (>), less than (<), and equal to (==).\n",
    "\n",
    "Using conditional statements for control flow is accomplished in Python with the keywords: if, else, and elif. When doing multiple comparisons in Python, one after the other, the first comparison always usesif and the last comparison generally uses else. If additional control flow is needed, elif statements can be used; elif stands for \"else if\"."
   ]
  },
  {
   "cell_type": "code",
   "execution_count": 20,
   "id": "683f3f1f",
   "metadata": {},
   "outputs": [
    {
     "name": "stdout",
     "output_type": "stream",
     "text": [
      "Number is smaller than 5\n"
     ]
    }
   ],
   "source": [
    "num = 4\n",
    "if(num < 5):\n",
    "    print(\"Number is smaller than 5\")\n",
    "elif(num == 5):\n",
    "    print(\"Number is equal to 5\")\n",
    "else:\n",
    "    print(\"Number is greater than 5\")"
   ]
  },
  {
   "cell_type": "markdown",
   "id": "71d17783",
   "metadata": {},
   "source": [
    "Control Structure Practice\n",
    "In the following exercise you will finish writing smallest_positive which is a function that finds the smallest positive number in a list.\n",
    "\n",
    "Exercise 1\n"
   ]
  },
  {
   "cell_type": "code",
   "execution_count": 27,
   "id": "1b22279e",
   "metadata": {},
   "outputs": [
    {
     "name": "stdout",
     "output_type": "stream",
     "text": [
      "2\n",
      "0.2\n"
     ]
    }
   ],
   "source": [
    "def smallest_positive(in_list):\n",
    "    # TODO: Define a control structure that finds the smallest positive\n",
    "    # number in in_list and returns the correct smallest number.\n",
    "    num = None;\n",
    "    for number in in_list:        \n",
    "        if(number > 0  and ( num == None or number < num)):\n",
    "               num = number            \n",
    "    return num\n",
    "\n",
    "# Test cases\n",
    "\n",
    "print(smallest_positive([4, -6, 7, 2, -4, 10]))\n",
    "# Correct output: 2\n",
    "\n",
    "print(smallest_positive([.2, 5, 3, -.1, 7, 7, 6]))\n",
    "# Correct output: 0.2"
   ]
  },
  {
   "cell_type": "markdown",
   "id": "cfd44cdd",
   "metadata": {},
   "source": [
    "Exercise 2\n",
    "Now let's assume you are planning on taking some additional courses at your local educational institution, and you have acquired some data about the available courses and when they will be offered. In the following exercise, you will write control structures to process the data and return the semesters when a given course is offered.\n",
    "\n",
    "You will need to complete the function when_offered(courses, course). This function accepts a \"courses\" data structure and a \"course\" string. The function should return a list of strings representing the semesters when the input course is offered. See the two test cases below for examples of correct results.\n",
    "\n",
    "Since the when_offered function accepts a dictionary data structure, you will find the"
   ]
  },
  {
   "cell_type": "code",
   "execution_count": 33,
   "id": "06ed929d",
   "metadata": {},
   "outputs": [
    {
     "name": "stdout",
     "output_type": "stream",
     "text": [
      "['spring2020', 'fall2020']\n",
      "[]\n"
     ]
    }
   ],
   "source": [
    "# This exercise uses a data structure that stores Udacity course information.\n",
    "# The data structure format is:\n",
    "\n",
    "#    { <semester>: { <class>: { <property>: <value>, ... },\n",
    "#                                     ... },\n",
    "#      ... }\n",
    "\n",
    "\n",
    "courses = {\n",
    "    'spring2020': { 'cs101': {'name': 'Building a Search Engine',\n",
    "                           'teacher': 'Dave',\n",
    "                           'assistant': 'Peter C.'},\n",
    "                 'cs373': {'name': 'Programming a Robotic Car',\n",
    "                           'teacher': 'Sebastian',\n",
    "                           'assistant': 'Andy'}},\n",
    "    'fall2020': { 'cs101': {'name': 'Building a Search Engine',\n",
    "                           'teacher': 'Dave',\n",
    "                           'assistant': 'Sarah'},\n",
    "                 'cs212': {'name': 'The Design of Computer Programs',\n",
    "                           'teacher': 'Peter N.',\n",
    "                           'assistant': 'Andy',\n",
    "                           'prereq': 'cs101'},\n",
    "                 'cs253': {'name': 'Web Application Engineering - Building a Blog',\n",
    "                           'teacher': 'Steve',\n",
    "                           'prereq': 'cs101'},\n",
    "                 'cs262': {'name': 'Programming Languages - Building a Web Browser',\n",
    "                           'teacher': 'Wes',\n",
    "                           'assistant': 'Peter C.',\n",
    "                           'prereq': 'cs101'},\n",
    "                 'cs373': {'name': 'Programming a Robotic Car',\n",
    "                           'teacher': 'Sebastian'},\n",
    "                 'cs387': {'name': 'Applied Cryptography',\n",
    "                           'teacher': 'Dave'}},\n",
    "    'spring2044': { 'cs001': {'name': 'Building a Quantum Holodeck',\n",
    "                           'teacher': 'Dorina'},\n",
    "                        'cs003': {'name': 'Programming a Robotic Robotics Teacher',\n",
    "                           'teacher': 'Jasper'},\n",
    "                     }\n",
    "    }\n",
    "\n",
    "def when_offered(courses, course):\n",
    "    semester_list = []\n",
    "    for offered in courses:\n",
    "        course_info = courses[offered]\n",
    "        if course in course_info:\n",
    "            semester_list.append(offered)\n",
    "    return semester_list\n",
    "\n",
    "print(when_offered(courses, 'cs101'))\n",
    "# Correct result: \n",
    "# ['fall2020', 'spring2020']\n",
    "\n",
    "print(when_offered(courses, 'bio893'))\n",
    "# Correct result: \n",
    "# []"
   ]
  }
 ],
 "metadata": {
  "kernelspec": {
   "display_name": "Python 3 (ipykernel)",
   "language": "python",
   "name": "python3"
  },
  "language_info": {
   "codemirror_mode": {
    "name": "ipython",
    "version": 3
   },
   "file_extension": ".py",
   "mimetype": "text/x-python",
   "name": "python",
   "nbconvert_exporter": "python",
   "pygments_lexer": "ipython3",
   "version": "3.9.7"
  }
 },
 "nbformat": 4,
 "nbformat_minor": 5
}
