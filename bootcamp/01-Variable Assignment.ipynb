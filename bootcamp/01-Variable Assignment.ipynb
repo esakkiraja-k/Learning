{
 "cells": [
  {
   "cell_type": "markdown",
   "id": "fc858dcd",
   "metadata": {},
   "source": [
    "## Variable Assignment\n",
    "## Rules for variable names\n",
    "names can not start with a number\n",
    "names can not contain spaces, use _ intead\n",
    "names can not contain any of these symbols:\n",
    "\n",
    ":'\",<>/?|\\!@#%^&*~-+\n",
    "it's considered best practice (PEP8) that names are lowercase with underscores\n",
    "\n",
    "avoid using Python built-in keywords like list and str\n",
    "avoid using the single characters l (lowercase letter el), O (uppercase letter oh) and I (uppercase letter eye) as they can be confused with 1 and 0"
   ]
  },
  {
   "cell_type": "markdown",
   "id": "e1f50d2b",
   "metadata": {},
   "source": [
    "## Dynamic Typing\n",
    "Python uses dynamic typing, meaning you can reassign variables to different data types. This makes Python very flexible in assigning data types; it differs from other languages that are statically typed."
   ]
  },
  {
   "cell_type": "code",
   "execution_count": 1,
   "id": "279c8cf4",
   "metadata": {},
   "outputs": [],
   "source": [
    "my_var = 2"
   ]
  },
  {
   "cell_type": "code",
   "execution_count": 2,
   "id": "26f057e6",
   "metadata": {},
   "outputs": [
    {
     "data": {
      "text/plain": [
       "2"
      ]
     },
     "execution_count": 2,
     "metadata": {},
     "output_type": "execute_result"
    }
   ],
   "source": [
    "my_var"
   ]
  },
  {
   "cell_type": "code",
   "execution_count": 3,
   "id": "edfe5db1",
   "metadata": {},
   "outputs": [],
   "source": [
    "my_var = ['var1','var2']"
   ]
  },
  {
   "cell_type": "code",
   "execution_count": 4,
   "id": "caea9fca",
   "metadata": {},
   "outputs": [
    {
     "data": {
      "text/plain": [
       "['var1', 'var2']"
      ]
     },
     "execution_count": 4,
     "metadata": {},
     "output_type": "execute_result"
    }
   ],
   "source": [
    "my_var"
   ]
  },
  {
   "cell_type": "markdown",
   "id": "3377cbad",
   "metadata": {},
   "source": [
    "## Pros and Cons of Dynamic Typing\n",
    "## Pros of Dynamic Typing\n",
    "very easy to work with\n",
    "faster development time\n",
    "## Cons of Dynamic Typing\n",
    "may result in unexpected bugs!\n",
    "you need to be aware of type()"
   ]
  },
  {
   "cell_type": "markdown",
   "id": "cdc1d02f",
   "metadata": {},
   "source": [
    "## Assigning Variables\n",
    "Variable assignment follows name = object, where a single equals sign = is an assignment operator"
   ]
  },
  {
   "cell_type": "code",
   "execution_count": 5,
   "id": "39147ceb",
   "metadata": {},
   "outputs": [],
   "source": [
    "a = 5"
   ]
  },
  {
   "cell_type": "code",
   "execution_count": 6,
   "id": "e1c4ed2c",
   "metadata": {},
   "outputs": [
    {
     "data": {
      "text/plain": [
       "5"
      ]
     },
     "execution_count": 6,
     "metadata": {},
     "output_type": "execute_result"
    }
   ],
   "source": [
    "a"
   ]
  },
  {
   "cell_type": "markdown",
   "id": "efe2dd46",
   "metadata": {},
   "source": [
    "## Reassigning Variables\n",
    "Python lets you reassign variables with a reference to the same object."
   ]
  },
  {
   "cell_type": "code",
   "execution_count": 7,
   "id": "26e5c364",
   "metadata": {},
   "outputs": [],
   "source": [
    "a = a + 10"
   ]
  },
  {
   "cell_type": "code",
   "execution_count": 8,
   "id": "49c9cea6",
   "metadata": {},
   "outputs": [
    {
     "data": {
      "text/plain": [
       "15"
      ]
     },
     "execution_count": 8,
     "metadata": {},
     "output_type": "execute_result"
    }
   ],
   "source": [
    "a"
   ]
  },
  {
   "cell_type": "markdown",
   "id": "6a734ad9",
   "metadata": {},
   "source": [
    "There's actually a shortcut for this. Python lets you add, subtract, multiply and divide numbers with reassignment using +=, -=, *=, and /=."
   ]
  },
  {
   "cell_type": "code",
   "execution_count": 9,
   "id": "e5f6afa1",
   "metadata": {},
   "outputs": [],
   "source": [
    "a += 10"
   ]
  },
  {
   "cell_type": "code",
   "execution_count": 12,
   "id": "aead62bb",
   "metadata": {},
   "outputs": [
    {
     "data": {
      "text/plain": [
       "125"
      ]
     },
     "execution_count": 12,
     "metadata": {},
     "output_type": "execute_result"
    }
   ],
   "source": [
    "a"
   ]
  },
  {
   "cell_type": "code",
   "execution_count": 10,
   "id": "366cddca",
   "metadata": {},
   "outputs": [],
   "source": [
    "a *= 5"
   ]
  },
  {
   "cell_type": "code",
   "execution_count": 11,
   "id": "3383cb79",
   "metadata": {},
   "outputs": [
    {
     "data": {
      "text/plain": [
       "125"
      ]
     },
     "execution_count": 11,
     "metadata": {},
     "output_type": "execute_result"
    }
   ],
   "source": [
    "a"
   ]
  },
  {
   "cell_type": "markdown",
   "id": "a2775f32",
   "metadata": {},
   "source": [
    "## Determining variable type with type()\n",
    "You can check what type of object is assigned to a variable using Python's built-in type() function. Common data types include:\n",
    "\n",
    "int (for integer)\n",
    "float\n",
    "str (for string)\n",
    "list\n",
    "tuple\n",
    "dict (for dictionary)\n",
    "set\n",
    "bool (for Boolean True/False)"
   ]
  },
  {
   "cell_type": "code",
   "execution_count": 13,
   "id": "355a1bd7",
   "metadata": {},
   "outputs": [
    {
     "data": {
      "text/plain": [
       "int"
      ]
     },
     "execution_count": 13,
     "metadata": {},
     "output_type": "execute_result"
    }
   ],
   "source": [
    "type(a)"
   ]
  },
  {
   "cell_type": "code",
   "execution_count": 14,
   "id": "f0d3a158",
   "metadata": {},
   "outputs": [],
   "source": [
    "a = ['a','b']"
   ]
  },
  {
   "cell_type": "code",
   "execution_count": 15,
   "id": "923c226f",
   "metadata": {},
   "outputs": [
    {
     "data": {
      "text/plain": [
       "list"
      ]
     },
     "execution_count": 15,
     "metadata": {},
     "output_type": "execute_result"
    }
   ],
   "source": [
    "type(a)"
   ]
  },
  {
   "cell_type": "code",
   "execution_count": 16,
   "id": "0327525e",
   "metadata": {},
   "outputs": [],
   "source": [
    "a = (1,2)"
   ]
  },
  {
   "cell_type": "code",
   "execution_count": 17,
   "id": "2d370c9d",
   "metadata": {},
   "outputs": [
    {
     "data": {
      "text/plain": [
       "tuple"
      ]
     },
     "execution_count": 17,
     "metadata": {},
     "output_type": "execute_result"
    }
   ],
   "source": [
    "type(a)"
   ]
  },
  {
   "cell_type": "code",
   "execution_count": null,
   "id": "3119346c",
   "metadata": {},
   "outputs": [],
   "source": []
  }
 ],
 "metadata": {
  "kernelspec": {
   "display_name": "Python 3 (ipykernel)",
   "language": "python",
   "name": "python3"
  },
  "language_info": {
   "codemirror_mode": {
    "name": "ipython",
    "version": 3
   },
   "file_extension": ".py",
   "mimetype": "text/x-python",
   "name": "python",
   "nbconvert_exporter": "python",
   "pygments_lexer": "ipython3",
   "version": "3.9.7"
  }
 },
 "nbformat": 4,
 "nbformat_minor": 5
}
