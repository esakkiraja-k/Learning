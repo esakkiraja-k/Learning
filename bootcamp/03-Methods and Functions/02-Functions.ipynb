{
 "cells": [
  {
   "cell_type": "code",
   "execution_count": 2,
   "id": "ac2ed650",
   "metadata": {},
   "outputs": [],
   "source": [
    "def hello_world():\n",
    "    print('hello world!!')"
   ]
  },
  {
   "cell_type": "code",
   "execution_count": 4,
   "id": "2af1429a",
   "metadata": {},
   "outputs": [
    {
     "name": "stdout",
     "output_type": "stream",
     "text": [
      "hello world!!\n"
     ]
    }
   ],
   "source": [
    "hello_world()"
   ]
  },
  {
   "cell_type": "code",
   "execution_count": 6,
   "id": "55a2ed7f",
   "metadata": {},
   "outputs": [
    {
     "data": {
      "text/plain": [
       "<function __main__.hello_world()>"
      ]
     },
     "execution_count": 6,
     "metadata": {},
     "output_type": "execute_result"
    }
   ],
   "source": [
    "hello_world"
   ]
  },
  {
   "cell_type": "code",
   "execution_count": 8,
   "id": "ee06da04",
   "metadata": {},
   "outputs": [
    {
     "name": "stdout",
     "output_type": "stream",
     "text": [
      "hello robot\n"
     ]
    }
   ],
   "source": [
    "#accepting parameter\n",
    "def function_with_param(name):\n",
    "    print('hello ' + name)\n",
    "\n",
    "function_with_param('robot')\n"
   ]
  },
  {
   "cell_type": "code",
   "execution_count": 11,
   "id": "840febbe",
   "metadata": {},
   "outputs": [
    {
     "name": "stdout",
     "output_type": "stream",
     "text": [
      "3\n"
     ]
    }
   ],
   "source": [
    "#function with return statement\n",
    "\n",
    "def add_sum(num1,num2):\n",
    "    return num1 + num2\n",
    "\n",
    "result = add_sum(1,2)\n",
    "print(result)"
   ]
  },
  {
   "cell_type": "code",
   "execution_count": 13,
   "id": "508b295d",
   "metadata": {},
   "outputs": [
    {
     "data": {
      "text/plain": [
       "int"
      ]
     },
     "execution_count": 13,
     "metadata": {},
     "output_type": "execute_result"
    }
   ],
   "source": [
    "type(result)"
   ]
  },
  {
   "cell_type": "code",
   "execution_count": 16,
   "id": "9aee8ba9",
   "metadata": {},
   "outputs": [
    {
     "data": {
      "text/plain": [
       "True"
      ]
     },
     "execution_count": 16,
     "metadata": {},
     "output_type": "execute_result"
    }
   ],
   "source": [
    "def check_even_num(num1):\n",
    "    return num1%2 == 0\n",
    "\n",
    "check_even_num(10)"
   ]
  },
  {
   "cell_type": "code",
   "execution_count": 21,
   "id": "e7dcca0d",
   "metadata": {},
   "outputs": [
    {
     "name": "stdout",
     "output_type": "stream",
     "text": [
      "False\n"
     ]
    }
   ],
   "source": [
    "#Check if any number in a list is even\n",
    "def check_even_in_list(list):\n",
    "    for item in list:\n",
    "        if(item%2 == 0):\n",
    "            return True\n",
    "        else:\n",
    "            pass\n",
    "    return False   \n",
    "\n",
    "print(check_even_in_list([1,9,3,7,5]))\n"
   ]
  },
  {
   "cell_type": "code",
   "execution_count": 26,
   "id": "22a0f3e8",
   "metadata": {},
   "outputs": [
    {
     "name": "stdout",
     "output_type": "stream",
     "text": [
      "[2, 4]\n"
     ]
    }
   ],
   "source": [
    "#return all even number in list\n",
    "def check_even_list(list):\n",
    "    even_list = []\n",
    "    for item in list:\n",
    "        if(item%2 == 0):\n",
    "            even_list.append(item)\n",
    "        else:\n",
    "            pass\n",
    "    return even_list   \n",
    "\n",
    "print(check_even_list([1,2,3,4,5]))"
   ]
  },
  {
   "cell_type": "code",
   "execution_count": 31,
   "id": "2a35ee0c",
   "metadata": {},
   "outputs": [
    {
     "name": "stdout",
     "output_type": "stream",
     "text": [
      "(800, 'Cassie')\n"
     ]
    }
   ],
   "source": [
    "#functions often return tuples, to easily return multiple results for later use.\n",
    "work_hours = [('Abby',100),('Billy',400),('Cassie',800)]\n",
    "\n",
    "def best_employee(work_hours):\n",
    "    curr_max = 0\n",
    "    emp_of_month = ''\n",
    "    for name,hrs in work_hours:\n",
    "        if(hrs > curr_max):\n",
    "            curr_max = hrs\n",
    "            emp_of_month = name\n",
    "        else:\n",
    "            pass\n",
    "    return (curr_max,emp_of_month) \n",
    "\n",
    "print(best_employee(work_hours))\n",
    "        "
   ]
  },
  {
   "cell_type": "code",
   "execution_count": 34,
   "id": "ece32a9c",
   "metadata": {},
   "outputs": [
    {
     "name": "stdout",
     "output_type": "stream",
     "text": [
      "[3, 4, 5, 1, 2]\n"
     ]
    }
   ],
   "source": [
    "#shuffle a list\n",
    "list1 = [1,2,3,4,5]\n",
    "from random import shuffle\n",
    "shuffle(list1)\n",
    "print(list1)"
   ]
  },
  {
   "cell_type": "code",
   "execution_count": 36,
   "id": "fb47a593",
   "metadata": {},
   "outputs": [
    {
     "data": {
      "text/plain": [
       "['', 'o', '']"
      ]
     },
     "execution_count": 36,
     "metadata": {},
     "output_type": "execute_result"
    }
   ],
   "source": [
    "my_list = ['','o','']\n",
    "\n",
    "def shuffle_list(input_list):\n",
    "    shuffle(input_list)\n",
    "    \n",
    "    return input_list\n",
    "    \n",
    "shuffle_list(my_list)    "
   ]
  },
  {
   "cell_type": "code",
   "execution_count": 39,
   "id": "88ff4889",
   "metadata": {},
   "outputs": [],
   "source": [
    "def player_guess():\n",
    "    guess = ''\n",
    "    \n",
    "    while guess not in ['0','1','2']:        \n",
    "        guess = input('pick number 0,1 or 2: ')\n",
    "        \n",
    "    return int(guess)"
   ]
  },
  {
   "cell_type": "code",
   "execution_count": 41,
   "id": "5ecbbaf1",
   "metadata": {},
   "outputs": [
    {
     "name": "stdout",
     "output_type": "stream",
     "text": [
      "pick number 0,1 or 2: 1\n"
     ]
    },
    {
     "data": {
      "text/plain": [
       "1"
      ]
     },
     "execution_count": 41,
     "metadata": {},
     "output_type": "execute_result"
    }
   ],
   "source": [
    "player_guess()"
   ]
  },
  {
   "cell_type": "code",
   "execution_count": 43,
   "id": "1a7d8571",
   "metadata": {},
   "outputs": [],
   "source": [
    "def check_guess(my_list,guess):\n",
    "    if(my_list[guess] == 'o'):\n",
    "        print('correct guess!!')\n",
    "    else:\n",
    "        print('better luck next time.')\n",
    "    "
   ]
  },
  {
   "cell_type": "code",
   "execution_count": null,
   "id": "8ab30623",
   "metadata": {},
   "outputs": [],
   "source": [
    "# Initial List\n",
    "mylist = [' ','O',' ']\n",
    "\n",
    "# Shuffle It\n",
    "mixedup_list = shuffle_list(mylist)\n",
    "\n",
    "# Get User's Guess\n",
    "guess = player_guess()\n",
    "\n",
    "# Check User's Guess\n",
    "#------------------------\n",
    "# Notice how this function takes in the input \n",
    "# based on the output of other functions!\n",
    "check_guess(mixedup_list,guess)"
   ]
  }
 ],
 "metadata": {
  "kernelspec": {
   "display_name": "Python 3 (ipykernel)",
   "language": "python",
   "name": "python3"
  },
  "language_info": {
   "codemirror_mode": {
    "name": "ipython",
    "version": 3
   },
   "file_extension": ".py",
   "mimetype": "text/x-python",
   "name": "python",
   "nbconvert_exporter": "python",
   "pygments_lexer": "ipython3",
   "version": "3.9.7"
  }
 },
 "nbformat": 4,
 "nbformat_minor": 5
}
