{
 "cells": [
  {
   "cell_type": "markdown",
   "id": "f20f92e1",
   "metadata": {},
   "source": [
    "### Nested Statements and Scope\n",
    "Now that we have gone over writing our own functions, it's important to understand how Python deals with the variable names you assign. When you create a variable name in Python the name is stored in a name-space. Variable names also have a scope, the scope determines the visibility of that variable name to other parts of your code.\n",
    "\n",
    "Let's start with a quick thought experiment; imagine the following code:"
   ]
  },
  {
   "cell_type": "code",
   "execution_count": 7,
   "id": "9bcc7284",
   "metadata": {},
   "outputs": [
    {
     "name": "stdout",
     "output_type": "stream",
     "text": [
      "25\n",
      "50\n"
     ]
    }
   ],
   "source": [
    "x = 25\n",
    "\n",
    "def printer():\n",
    "    x = 50\n",
    "    return x\n",
    "\n",
    "print(x)\n",
    "print(printer())"
   ]
  },
  {
   "cell_type": "markdown",
   "id": "412cab41",
   "metadata": {},
   "source": [
    "### LEGB Rule:\n",
    "\n",
    "L: Local — Names assigned in any way within a function (def or lambda), and not declared global in that function.\n",
    "\n",
    "E: Enclosing function locals — Names in the local scope of any and all enclosing functions (def or lambda), from inner to outer.\n",
    "\n",
    "G: Global (module) — Names assigned at the top-level of a module file, or declared global in a def within the file.\n",
    "\n",
    "B: Built-in (Python) — Names preassigned in the built-in names module : open, range, SyntaxError,."
   ]
  },
  {
   "cell_type": "code",
   "execution_count": 8,
   "id": "065e9104",
   "metadata": {},
   "outputs": [],
   "source": [
    "#local\n",
    "f = lambda x: x**2"
   ]
  },
  {
   "cell_type": "code",
   "execution_count": 10,
   "id": "02da33d6",
   "metadata": {},
   "outputs": [
    {
     "name": "stdout",
     "output_type": "stream",
     "text": [
      "hello test\n"
     ]
    }
   ],
   "source": [
    "#enclosing function locals\n",
    "\n",
    "name = ' this is global variable'\n",
    "\n",
    "def greet():\n",
    "    #enclosing function\n",
    "    name = 'test'\n",
    "    \n",
    "    def hello():\n",
    "        print('hello ' + name)\n",
    "    \n",
    "    hello()\n",
    "\n",
    "greet()"
   ]
  },
  {
   "cell_type": "code",
   "execution_count": 12,
   "id": "2e6c7b06",
   "metadata": {},
   "outputs": [
    {
     "name": "stdout",
     "output_type": "stream",
     "text": [
      " this is global variable\n"
     ]
    }
   ],
   "source": [
    "#global variable\n",
    "print(name)"
   ]
  },
  {
   "cell_type": "code",
   "execution_count": 14,
   "id": "7a454a4c",
   "metadata": {},
   "outputs": [
    {
     "data": {
      "text/plain": [
       "<function len(obj, /)>"
      ]
     },
     "execution_count": 14,
     "metadata": {},
     "output_type": "execute_result"
    }
   ],
   "source": [
    "##built-in function\n",
    "len"
   ]
  },
  {
   "cell_type": "markdown",
   "id": "a4a43e65",
   "metadata": {},
   "source": [
    "### Local Variables\n",
    "When you declare variables inside a function definition, they are not related in any way to other variables with the same names used outside the function - i.e. variable names are local to the function. This is called the scope of the variable. All variables have the scope of the block they are declared in starting from the point of definition of the name."
   ]
  },
  {
   "cell_type": "code",
   "execution_count": 17,
   "id": "9badf128",
   "metadata": {},
   "outputs": [
    {
     "name": "stdout",
     "output_type": "stream",
     "text": [
      "x is 50\n",
      "changed local x to 2\n",
      "x is still 50\n"
     ]
    }
   ],
   "source": [
    "x = 50\n",
    "\n",
    "def func(x):\n",
    "    print('x is' ,x)\n",
    "    x = 2\n",
    "    print('changed local x to' , x)\n",
    "\n",
    "func(x)\n",
    "print('x is still' , x)"
   ]
  },
  {
   "cell_type": "markdown",
   "id": "0d93d49d",
   "metadata": {},
   "source": [
    "### The global statement\n",
    "If you want to assign a value to a name defined at the top level of the program (i.e. not inside any kind of scope such as functions or classes), then you have to tell Python that the name is not local, but it is global. We do this using the global statement. It is impossible to assign a value to a variable defined outside a function without the global statement.\n",
    "\n",
    "You can use the values of such variables defined outside the function (assuming there is no variable with the same name within the function). However, this is not encouraged and should be avoided since it becomes unclear to the reader of the program as to where that variable’s definition is. Using the global statement makes it amply clear that the variable is defined in an outermost block."
   ]
  },
  {
   "cell_type": "code",
   "execution_count": 20,
   "id": "58d3080c",
   "metadata": {},
   "outputs": [
    {
     "name": "stdout",
     "output_type": "stream",
     "text": [
      "before calling func 50\n",
      "this function is now using global variable\n",
      "global x is 50\n",
      "ran func(),changed global x is 2\n",
      "value of x is: 2\n"
     ]
    }
   ],
   "source": [
    "x = 50\n",
    "\n",
    "def func():\n",
    "    global x\n",
    "    print('this function is now using global variable')\n",
    "    print('global x is',x)\n",
    "    x = 2\n",
    "    print('ran func(),changed global x is',x)\n",
    "\n",
    "print('before calling func',x)\n",
    "func()\n",
    "print('value of x is:',x)"
   ]
  },
  {
   "cell_type": "code",
   "execution_count": 22,
   "id": "39727125",
   "metadata": {},
   "outputs": [
    {
     "data": {
      "text/plain": [
       "{'__name__': '__main__',\n",
       " '__doc__': 'Automatically created module for IPython interactive environment',\n",
       " '__package__': None,\n",
       " '__loader__': None,\n",
       " '__spec__': None,\n",
       " '__builtin__': <module 'builtins' (built-in)>,\n",
       " '__builtins__': <module 'builtins' (built-in)>,\n",
       " '_ih': ['',\n",
       "  'x = 25\\n\\ndef printer():\\n     x = 50\\n    return x\\n\\nprint(x)\\nprint(printer())',\n",
       "  'x = 25\\n\\ndef printer():\\n     x = 50\\nreturn x\\n\\nprint(x)\\nprint(printer())',\n",
       "  'x = 25\\n\\ndef printer():\\n     x = 50\\n    return x\\n\\nprint(x)\\nprint(printer())',\n",
       "  'x = 25\\n\\ndef printer():\\n    x = 50\\n    return x\\n\\nprint(x)\\nprint(printer())',\n",
       "  'x = 25\\n\\ndef printer():\\n    x = 50\\n    return x\\n\\nprint(x)\\nprint(printer())',\n",
       "  '#local\\nf = lambda x: x**2',\n",
       "  \"#enclosing function locals\\n\\nname = ' this is global variable'\\n\\ndef greet():\\n    #enclosing function\\n    name = 'test'\\n    \\n    def hello():\\n        print('hello' + name)\\n    \\n    hello()\\n\\ngreet()\",\n",
       "  \"#enclosing function locals\\n\\nname = ' this is global variable'\\n\\ndef greet():\\n    #enclosing function\\n    name = 'test'\\n    \\n    def hello():\\n        print('hello ' + name)\\n    \\n    hello()\\n\\ngreet()\",\n",
       "  'print(name)',\n",
       "  '#global variable\\nprint(name)',\n",
       "  '##built-in function\\nlen',\n",
       "  '##built-in function\\nlen',\n",
       "  \"x = 50\\n\\ndef func(x):\\n    print('x is' + x)\\n    x = 2\\n    print('changed local x to' + x)\\n\\nfunc(x)\\nprint('x is still' + x)\",\n",
       "  \"x = 50\\n\\ndef func(x):\\n    print('x is' ,x)\\n    x = 2\\n    print('changed local x to' , x)\\n\\nfunc(x)\\nprint('x is still' , x)\",\n",
       "  \"x = 50\\n\\ndef func(x):\\n    print('x is' ,x)\\n    x = 2\\n    print('changed local x to' , x)\\n\\nfunc(x)\\nprint('x is still' , x)\",\n",
       "  \"x = 50\\n\\ndef func():\\n    global x\\n    print('this function is now using global variable')\\n    print('global x is',x)\\n    x = 2\\n    print('ran func(),changed global x is',x)\\n\\n    print('before calling func',x)\\n    func()\\n    print('value of x is:',x)\",\n",
       "  \"x = 50\\n\\ndef func():\\n    global x\\n    print('this function is now using global variable')\\n    print('global x is',x)\\n    x = 2\\n    print('ran func(),changed global x is',x)\\n\\n    print('before calling func',x)\\n    func()\\n    print('value of x is:',x)\",\n",
       "  \"x = 50\\n\\ndef func():\\n    global x\\n    print('this function is now using global variable')\\n    print('global x is',x)\\n    x = 2\\n    print('ran func(),changed global x is',x)\\n\\nprint('before calling func',x)\\nfunc()\\nprint('value of x is:',x)\",\n",
       "  'globals()',\n",
       "  'globals()'],\n",
       " '_oh': {13: <function len(obj, /)>, 14: <function len(obj, /)>, 21: {...}},\n",
       " '_dh': ['C:\\\\Users\\\\esakkiraja.kandasamy\\\\OneDrive - Avantor\\\\Learning\\\\Python\\\\bootcamp\\\\03-Methods and Functions'],\n",
       " 'In': ['',\n",
       "  'x = 25\\n\\ndef printer():\\n     x = 50\\n    return x\\n\\nprint(x)\\nprint(printer())',\n",
       "  'x = 25\\n\\ndef printer():\\n     x = 50\\nreturn x\\n\\nprint(x)\\nprint(printer())',\n",
       "  'x = 25\\n\\ndef printer():\\n     x = 50\\n    return x\\n\\nprint(x)\\nprint(printer())',\n",
       "  'x = 25\\n\\ndef printer():\\n    x = 50\\n    return x\\n\\nprint(x)\\nprint(printer())',\n",
       "  'x = 25\\n\\ndef printer():\\n    x = 50\\n    return x\\n\\nprint(x)\\nprint(printer())',\n",
       "  '#local\\nf = lambda x: x**2',\n",
       "  \"#enclosing function locals\\n\\nname = ' this is global variable'\\n\\ndef greet():\\n    #enclosing function\\n    name = 'test'\\n    \\n    def hello():\\n        print('hello' + name)\\n    \\n    hello()\\n\\ngreet()\",\n",
       "  \"#enclosing function locals\\n\\nname = ' this is global variable'\\n\\ndef greet():\\n    #enclosing function\\n    name = 'test'\\n    \\n    def hello():\\n        print('hello ' + name)\\n    \\n    hello()\\n\\ngreet()\",\n",
       "  'print(name)',\n",
       "  '#global variable\\nprint(name)',\n",
       "  '##built-in function\\nlen',\n",
       "  '##built-in function\\nlen',\n",
       "  \"x = 50\\n\\ndef func(x):\\n    print('x is' + x)\\n    x = 2\\n    print('changed local x to' + x)\\n\\nfunc(x)\\nprint('x is still' + x)\",\n",
       "  \"x = 50\\n\\ndef func(x):\\n    print('x is' ,x)\\n    x = 2\\n    print('changed local x to' , x)\\n\\nfunc(x)\\nprint('x is still' , x)\",\n",
       "  \"x = 50\\n\\ndef func(x):\\n    print('x is' ,x)\\n    x = 2\\n    print('changed local x to' , x)\\n\\nfunc(x)\\nprint('x is still' , x)\",\n",
       "  \"x = 50\\n\\ndef func():\\n    global x\\n    print('this function is now using global variable')\\n    print('global x is',x)\\n    x = 2\\n    print('ran func(),changed global x is',x)\\n\\n    print('before calling func',x)\\n    func()\\n    print('value of x is:',x)\",\n",
       "  \"x = 50\\n\\ndef func():\\n    global x\\n    print('this function is now using global variable')\\n    print('global x is',x)\\n    x = 2\\n    print('ran func(),changed global x is',x)\\n\\n    print('before calling func',x)\\n    func()\\n    print('value of x is:',x)\",\n",
       "  \"x = 50\\n\\ndef func():\\n    global x\\n    print('this function is now using global variable')\\n    print('global x is',x)\\n    x = 2\\n    print('ran func(),changed global x is',x)\\n\\nprint('before calling func',x)\\nfunc()\\nprint('value of x is:',x)\",\n",
       "  'globals()',\n",
       "  'globals()'],\n",
       " 'Out': {13: <function len(obj, /)>, 14: <function len(obj, /)>, 21: {...}},\n",
       " 'get_ipython': <bound method InteractiveShell.get_ipython of <ipykernel.zmqshell.ZMQInteractiveShell object at 0x000001CC6CD74D60>>,\n",
       " 'exit': <IPython.core.autocall.ZMQExitAutocall at 0x1cc6cda9a60>,\n",
       " 'quit': <IPython.core.autocall.ZMQExitAutocall at 0x1cc6cda9a60>,\n",
       " '_': {...},\n",
       " '__': <function len(obj, /)>,\n",
       " '___': <function len(obj, /)>,\n",
       " '_i': 'globals()',\n",
       " '_ii': \"x = 50\\n\\ndef func():\\n    global x\\n    print('this function is now using global variable')\\n    print('global x is',x)\\n    x = 2\\n    print('ran func(),changed global x is',x)\\n\\nprint('before calling func',x)\\nfunc()\\nprint('value of x is:',x)\",\n",
       " '_iii': \"x = 50\\n\\ndef func():\\n    global x\\n    print('this function is now using global variable')\\n    print('global x is',x)\\n    x = 2\\n    print('ran func(),changed global x is',x)\\n\\n    print('before calling func',x)\\n    func()\\n    print('value of x is:',x)\",\n",
       " '_i1': 'x = 25\\n\\ndef printer():\\n     x = 50\\n    return x\\n\\nprint(x)\\nprint(printer())',\n",
       " '_i3': 'x = 25\\n\\ndef printer():\\n     x = 50\\nreturn x\\n\\nprint(x)\\nprint(printer())',\n",
       " 'x': 2,\n",
       " 'printer': <function __main__.printer()>,\n",
       " '_i4': 'x = 25\\n\\ndef printer():\\n     x = 50\\n    return x\\n\\nprint(x)\\nprint(printer())',\n",
       " '_i6': 'x = 25\\n\\ndef printer():\\n    x = 50\\n    return x\\n\\nprint(x)\\nprint(printer())',\n",
       " '_i7': 'x = 25\\n\\ndef printer():\\n    x = 50\\n    return x\\n\\nprint(x)\\nprint(printer())',\n",
       " '_i8': '#local\\nf = lambda x: x**2',\n",
       " 'f': <function __main__.<lambda>(x)>,\n",
       " '_i9': \"#enclosing function locals\\n\\nname = ' this is global variable'\\n\\ndef greet():\\n    #enclosing function\\n    name = 'test'\\n    \\n    def hello():\\n        print('hello' + name)\\n    \\n    hello()\\n\\ngreet()\",\n",
       " 'name': ' this is global variable',\n",
       " 'greet': <function __main__.greet()>,\n",
       " '_i10': \"#enclosing function locals\\n\\nname = ' this is global variable'\\n\\ndef greet():\\n    #enclosing function\\n    name = 'test'\\n    \\n    def hello():\\n        print('hello ' + name)\\n    \\n    hello()\\n\\ngreet()\",\n",
       " '_i11': 'print(name)',\n",
       " '_i12': '#global variable\\nprint(name)',\n",
       " '_i13': '##built-in function\\nlen',\n",
       " '_13': <function len(obj, /)>,\n",
       " '_i14': '##built-in function\\nlen',\n",
       " '_14': <function len(obj, /)>,\n",
       " '_i15': \"x = 50\\n\\ndef func(x):\\n    print('x is' + x)\\n    x = 2\\n    print('changed local x to' + x)\\n\\nfunc(x)\\nprint('x is still' + x)\",\n",
       " 'func': <function __main__.func()>,\n",
       " '_i16': \"x = 50\\n\\ndef func(x):\\n    print('x is' ,x)\\n    x = 2\\n    print('changed local x to' , x)\\n\\nfunc(x)\\nprint('x is still' , x)\",\n",
       " '_i17': \"x = 50\\n\\ndef func(x):\\n    print('x is' ,x)\\n    x = 2\\n    print('changed local x to' , x)\\n\\nfunc(x)\\nprint('x is still' , x)\",\n",
       " '_i18': \"x = 50\\n\\ndef func():\\n    global x\\n    print('this function is now using global variable')\\n    print('global x is',x)\\n    x = 2\\n    print('ran func(),changed global x is',x)\\n\\n    print('before calling func',x)\\n    func()\\n    print('value of x is:',x)\",\n",
       " '_i19': \"x = 50\\n\\ndef func():\\n    global x\\n    print('this function is now using global variable')\\n    print('global x is',x)\\n    x = 2\\n    print('ran func(),changed global x is',x)\\n\\n    print('before calling func',x)\\n    func()\\n    print('value of x is:',x)\",\n",
       " '_i20': \"x = 50\\n\\ndef func():\\n    global x\\n    print('this function is now using global variable')\\n    print('global x is',x)\\n    x = 2\\n    print('ran func(),changed global x is',x)\\n\\nprint('before calling func',x)\\nfunc()\\nprint('value of x is:',x)\",\n",
       " '_i21': 'globals()',\n",
       " '_21': {...},\n",
       " '_i22': 'globals()'}"
      ]
     },
     "execution_count": 22,
     "metadata": {},
     "output_type": "execute_result"
    }
   ],
   "source": [
    "globals()"
   ]
  },
  {
   "cell_type": "code",
   "execution_count": 23,
   "id": "83dd3676",
   "metadata": {},
   "outputs": [
    {
     "data": {
      "text/plain": [
       "{'__name__': '__main__',\n",
       " '__doc__': 'Automatically created module for IPython interactive environment',\n",
       " '__package__': None,\n",
       " '__loader__': None,\n",
       " '__spec__': None,\n",
       " '__builtin__': <module 'builtins' (built-in)>,\n",
       " '__builtins__': <module 'builtins' (built-in)>,\n",
       " '_ih': ['',\n",
       "  'x = 25\\n\\ndef printer():\\n     x = 50\\n    return x\\n\\nprint(x)\\nprint(printer())',\n",
       "  'x = 25\\n\\ndef printer():\\n     x = 50\\nreturn x\\n\\nprint(x)\\nprint(printer())',\n",
       "  'x = 25\\n\\ndef printer():\\n     x = 50\\n    return x\\n\\nprint(x)\\nprint(printer())',\n",
       "  'x = 25\\n\\ndef printer():\\n    x = 50\\n    return x\\n\\nprint(x)\\nprint(printer())',\n",
       "  'x = 25\\n\\ndef printer():\\n    x = 50\\n    return x\\n\\nprint(x)\\nprint(printer())',\n",
       "  '#local\\nf = lambda x: x**2',\n",
       "  \"#enclosing function locals\\n\\nname = ' this is global variable'\\n\\ndef greet():\\n    #enclosing function\\n    name = 'test'\\n    \\n    def hello():\\n        print('hello' + name)\\n    \\n    hello()\\n\\ngreet()\",\n",
       "  \"#enclosing function locals\\n\\nname = ' this is global variable'\\n\\ndef greet():\\n    #enclosing function\\n    name = 'test'\\n    \\n    def hello():\\n        print('hello ' + name)\\n    \\n    hello()\\n\\ngreet()\",\n",
       "  'print(name)',\n",
       "  '#global variable\\nprint(name)',\n",
       "  '##built-in function\\nlen',\n",
       "  '##built-in function\\nlen',\n",
       "  \"x = 50\\n\\ndef func(x):\\n    print('x is' + x)\\n    x = 2\\n    print('changed local x to' + x)\\n\\nfunc(x)\\nprint('x is still' + x)\",\n",
       "  \"x = 50\\n\\ndef func(x):\\n    print('x is' ,x)\\n    x = 2\\n    print('changed local x to' , x)\\n\\nfunc(x)\\nprint('x is still' , x)\",\n",
       "  \"x = 50\\n\\ndef func(x):\\n    print('x is' ,x)\\n    x = 2\\n    print('changed local x to' , x)\\n\\nfunc(x)\\nprint('x is still' , x)\",\n",
       "  \"x = 50\\n\\ndef func():\\n    global x\\n    print('this function is now using global variable')\\n    print('global x is',x)\\n    x = 2\\n    print('ran func(),changed global x is',x)\\n\\n    print('before calling func',x)\\n    func()\\n    print('value of x is:',x)\",\n",
       "  \"x = 50\\n\\ndef func():\\n    global x\\n    print('this function is now using global variable')\\n    print('global x is',x)\\n    x = 2\\n    print('ran func(),changed global x is',x)\\n\\n    print('before calling func',x)\\n    func()\\n    print('value of x is:',x)\",\n",
       "  \"x = 50\\n\\ndef func():\\n    global x\\n    print('this function is now using global variable')\\n    print('global x is',x)\\n    x = 2\\n    print('ran func(),changed global x is',x)\\n\\nprint('before calling func',x)\\nfunc()\\nprint('value of x is:',x)\",\n",
       "  'globals()',\n",
       "  'globals()',\n",
       "  'locals()'],\n",
       " '_oh': {13: <function len(obj, /)>,\n",
       "  14: <function len(obj, /)>,\n",
       "  21: {...},\n",
       "  22: {...}},\n",
       " '_dh': ['C:\\\\Users\\\\esakkiraja.kandasamy\\\\OneDrive - Avantor\\\\Learning\\\\Python\\\\bootcamp\\\\03-Methods and Functions'],\n",
       " 'In': ['',\n",
       "  'x = 25\\n\\ndef printer():\\n     x = 50\\n    return x\\n\\nprint(x)\\nprint(printer())',\n",
       "  'x = 25\\n\\ndef printer():\\n     x = 50\\nreturn x\\n\\nprint(x)\\nprint(printer())',\n",
       "  'x = 25\\n\\ndef printer():\\n     x = 50\\n    return x\\n\\nprint(x)\\nprint(printer())',\n",
       "  'x = 25\\n\\ndef printer():\\n    x = 50\\n    return x\\n\\nprint(x)\\nprint(printer())',\n",
       "  'x = 25\\n\\ndef printer():\\n    x = 50\\n    return x\\n\\nprint(x)\\nprint(printer())',\n",
       "  '#local\\nf = lambda x: x**2',\n",
       "  \"#enclosing function locals\\n\\nname = ' this is global variable'\\n\\ndef greet():\\n    #enclosing function\\n    name = 'test'\\n    \\n    def hello():\\n        print('hello' + name)\\n    \\n    hello()\\n\\ngreet()\",\n",
       "  \"#enclosing function locals\\n\\nname = ' this is global variable'\\n\\ndef greet():\\n    #enclosing function\\n    name = 'test'\\n    \\n    def hello():\\n        print('hello ' + name)\\n    \\n    hello()\\n\\ngreet()\",\n",
       "  'print(name)',\n",
       "  '#global variable\\nprint(name)',\n",
       "  '##built-in function\\nlen',\n",
       "  '##built-in function\\nlen',\n",
       "  \"x = 50\\n\\ndef func(x):\\n    print('x is' + x)\\n    x = 2\\n    print('changed local x to' + x)\\n\\nfunc(x)\\nprint('x is still' + x)\",\n",
       "  \"x = 50\\n\\ndef func(x):\\n    print('x is' ,x)\\n    x = 2\\n    print('changed local x to' , x)\\n\\nfunc(x)\\nprint('x is still' , x)\",\n",
       "  \"x = 50\\n\\ndef func(x):\\n    print('x is' ,x)\\n    x = 2\\n    print('changed local x to' , x)\\n\\nfunc(x)\\nprint('x is still' , x)\",\n",
       "  \"x = 50\\n\\ndef func():\\n    global x\\n    print('this function is now using global variable')\\n    print('global x is',x)\\n    x = 2\\n    print('ran func(),changed global x is',x)\\n\\n    print('before calling func',x)\\n    func()\\n    print('value of x is:',x)\",\n",
       "  \"x = 50\\n\\ndef func():\\n    global x\\n    print('this function is now using global variable')\\n    print('global x is',x)\\n    x = 2\\n    print('ran func(),changed global x is',x)\\n\\n    print('before calling func',x)\\n    func()\\n    print('value of x is:',x)\",\n",
       "  \"x = 50\\n\\ndef func():\\n    global x\\n    print('this function is now using global variable')\\n    print('global x is',x)\\n    x = 2\\n    print('ran func(),changed global x is',x)\\n\\nprint('before calling func',x)\\nfunc()\\nprint('value of x is:',x)\",\n",
       "  'globals()',\n",
       "  'globals()',\n",
       "  'locals()'],\n",
       " 'Out': {13: <function len(obj, /)>,\n",
       "  14: <function len(obj, /)>,\n",
       "  21: {...},\n",
       "  22: {...}},\n",
       " 'get_ipython': <bound method InteractiveShell.get_ipython of <ipykernel.zmqshell.ZMQInteractiveShell object at 0x000001CC6CD74D60>>,\n",
       " 'exit': <IPython.core.autocall.ZMQExitAutocall at 0x1cc6cda9a60>,\n",
       " 'quit': <IPython.core.autocall.ZMQExitAutocall at 0x1cc6cda9a60>,\n",
       " '_': {...},\n",
       " '__': {...},\n",
       " '___': <function len(obj, /)>,\n",
       " '_i': 'globals()',\n",
       " '_ii': 'globals()',\n",
       " '_iii': \"x = 50\\n\\ndef func():\\n    global x\\n    print('this function is now using global variable')\\n    print('global x is',x)\\n    x = 2\\n    print('ran func(),changed global x is',x)\\n\\nprint('before calling func',x)\\nfunc()\\nprint('value of x is:',x)\",\n",
       " '_i1': 'x = 25\\n\\ndef printer():\\n     x = 50\\n    return x\\n\\nprint(x)\\nprint(printer())',\n",
       " '_i3': 'x = 25\\n\\ndef printer():\\n     x = 50\\nreturn x\\n\\nprint(x)\\nprint(printer())',\n",
       " 'x': 2,\n",
       " 'printer': <function __main__.printer()>,\n",
       " '_i4': 'x = 25\\n\\ndef printer():\\n     x = 50\\n    return x\\n\\nprint(x)\\nprint(printer())',\n",
       " '_i6': 'x = 25\\n\\ndef printer():\\n    x = 50\\n    return x\\n\\nprint(x)\\nprint(printer())',\n",
       " '_i7': 'x = 25\\n\\ndef printer():\\n    x = 50\\n    return x\\n\\nprint(x)\\nprint(printer())',\n",
       " '_i8': '#local\\nf = lambda x: x**2',\n",
       " 'f': <function __main__.<lambda>(x)>,\n",
       " '_i9': \"#enclosing function locals\\n\\nname = ' this is global variable'\\n\\ndef greet():\\n    #enclosing function\\n    name = 'test'\\n    \\n    def hello():\\n        print('hello' + name)\\n    \\n    hello()\\n\\ngreet()\",\n",
       " 'name': ' this is global variable',\n",
       " 'greet': <function __main__.greet()>,\n",
       " '_i10': \"#enclosing function locals\\n\\nname = ' this is global variable'\\n\\ndef greet():\\n    #enclosing function\\n    name = 'test'\\n    \\n    def hello():\\n        print('hello ' + name)\\n    \\n    hello()\\n\\ngreet()\",\n",
       " '_i11': 'print(name)',\n",
       " '_i12': '#global variable\\nprint(name)',\n",
       " '_i13': '##built-in function\\nlen',\n",
       " '_13': <function len(obj, /)>,\n",
       " '_i14': '##built-in function\\nlen',\n",
       " '_14': <function len(obj, /)>,\n",
       " '_i15': \"x = 50\\n\\ndef func(x):\\n    print('x is' + x)\\n    x = 2\\n    print('changed local x to' + x)\\n\\nfunc(x)\\nprint('x is still' + x)\",\n",
       " 'func': <function __main__.func()>,\n",
       " '_i16': \"x = 50\\n\\ndef func(x):\\n    print('x is' ,x)\\n    x = 2\\n    print('changed local x to' , x)\\n\\nfunc(x)\\nprint('x is still' , x)\",\n",
       " '_i17': \"x = 50\\n\\ndef func(x):\\n    print('x is' ,x)\\n    x = 2\\n    print('changed local x to' , x)\\n\\nfunc(x)\\nprint('x is still' , x)\",\n",
       " '_i18': \"x = 50\\n\\ndef func():\\n    global x\\n    print('this function is now using global variable')\\n    print('global x is',x)\\n    x = 2\\n    print('ran func(),changed global x is',x)\\n\\n    print('before calling func',x)\\n    func()\\n    print('value of x is:',x)\",\n",
       " '_i19': \"x = 50\\n\\ndef func():\\n    global x\\n    print('this function is now using global variable')\\n    print('global x is',x)\\n    x = 2\\n    print('ran func(),changed global x is',x)\\n\\n    print('before calling func',x)\\n    func()\\n    print('value of x is:',x)\",\n",
       " '_i20': \"x = 50\\n\\ndef func():\\n    global x\\n    print('this function is now using global variable')\\n    print('global x is',x)\\n    x = 2\\n    print('ran func(),changed global x is',x)\\n\\nprint('before calling func',x)\\nfunc()\\nprint('value of x is:',x)\",\n",
       " '_i21': 'globals()',\n",
       " '_21': {...},\n",
       " '_i22': 'globals()',\n",
       " '_22': {...},\n",
       " '_i23': 'locals()'}"
      ]
     },
     "execution_count": 23,
     "metadata": {},
     "output_type": "execute_result"
    }
   ],
   "source": [
    "locals()"
   ]
  }
 ],
 "metadata": {
  "kernelspec": {
   "display_name": "Python 3 (ipykernel)",
   "language": "python",
   "name": "python3"
  },
  "language_info": {
   "codemirror_mode": {
    "name": "ipython",
    "version": 3
   },
   "file_extension": ".py",
   "mimetype": "text/x-python",
   "name": "python",
   "nbconvert_exporter": "python",
   "pygments_lexer": "ipython3",
   "version": "3.9.7"
  }
 },
 "nbformat": 4,
 "nbformat_minor": 5
}
