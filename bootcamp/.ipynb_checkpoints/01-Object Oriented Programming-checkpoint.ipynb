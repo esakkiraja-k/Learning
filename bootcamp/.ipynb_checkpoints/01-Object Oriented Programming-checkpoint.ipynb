{
 "cells": [
  {
   "cell_type": "markdown",
   "id": "ee3de693",
   "metadata": {},
   "source": [
    "### Object Oriented Programming\n",
    "Object Oriented Programming (OOP) tends to be one of the major obstacles for beginners when they are first starting to learn Python.\n",
    "\n",
    "There are many, many tutorials and lessons covering OOP so feel free to Google search other lessons, and I have also put some links to other useful tutorials online at the bottom of this Notebook.\n",
    "\n",
    "For this lesson we will construct our knowledge of OOP in Python by building on the following topics:\n",
    "\n",
    "Objects\n",
    "Using the class keyword\n",
    "Creating class attributes\n",
    "Creating methods in a class\n",
    "Learning about Inheritance\n",
    "Learning about Polymorphism\n",
    "Learning about Special Methods for classes\n",
    "Lets start the lesson by remembering about the Basic Python Objects. For example:"
   ]
  },
  {
   "cell_type": "markdown",
   "id": "013b764e",
   "metadata": {},
   "source": [
    "#In Python, everything is an object. Remember from previous lectures we can use type() to check the type of object something\n"
   ]
  },
  {
   "cell_type": "code",
   "execution_count": 1,
   "id": "3c23392d",
   "metadata": {},
   "outputs": [
    {
     "name": "stdout",
     "output_type": "stream",
     "text": [
      "<class 'int'>\n"
     ]
    }
   ],
   "source": [
    "print(type(1))"
   ]
  },
  {
   "cell_type": "code",
   "execution_count": 3,
   "id": "abeff292",
   "metadata": {},
   "outputs": [
    {
     "name": "stdout",
     "output_type": "stream",
     "text": [
      "<class 'list'>\n",
      "<class 'tuple'>\n",
      "<class 'dict'>\n"
     ]
    }
   ],
   "source": [
    "print(type([]))\n",
    "print(type(()))\n",
    "print(type({}))"
   ]
  },
  {
   "cell_type": "markdown",
   "id": "9adee022",
   "metadata": {},
   "source": [
    "### class\n",
    "User defined objects are created using the class keyword. The class is a blueprint that defines the nature of a future object. From classes we can construct instances. An instance is a specific object created from a particular class. For example, above we created the object lst which was an instance of a list object.\n",
    "\n",
    "Let see how we can use class:"
   ]
  },
  {
   "cell_type": "code",
   "execution_count": 4,
   "id": "1d9e421a",
   "metadata": {},
   "outputs": [
    {
     "name": "stdout",
     "output_type": "stream",
     "text": [
      "<class '__main__.Sample'>\n"
     ]
    }
   ],
   "source": [
    "#create a new object type called sample\n",
    "class Sample:\n",
    "    pass\n",
    "#instance of sample\n",
    "x = Sample()\n",
    "print(type(x))"
   ]
  },
  {
   "cell_type": "markdown",
   "id": "ca3798b7",
   "metadata": {},
   "source": [
    "By convention we give classes a name that starts with a capital letter. Note how x is now the reference to our new instance of a Sample class. In other words, we instantiate the Sample class.\n",
    "\n",
    "Inside of the class we currently just have pass. But we can define class attributes and methods.\n",
    "\n",
    "An attribute is a characteristic of an object. A method is an operation we can perform with the object.\n",
    "\n",
    "For example, we can create a class called Dog. An attribute of a dog may be its breed or its name, while a method of a dog may be defined by a .bark() method which returns a sound.\n",
    "\n",
    "Let's get a better understanding of attributes through an example."
   ]
  },
  {
   "cell_type": "markdown",
   "id": "9d44c1cc",
   "metadata": {},
   "source": [
    "### Attributes\n",
    "The syntax for creating an attribute is:\n",
    "\n",
    "self.attribute = something\n",
    "\n",
    "There is a special method called:\n",
    "\n",
    "__init__()\n",
    "\n",
    "This method is used to initialize the attributes of an object. For example:"
   ]
  },
  {
   "cell_type": "code",
   "execution_count": 5,
   "id": "f7109381",
   "metadata": {},
   "outputs": [],
   "source": [
    "class dog:\n",
    "    def __init__(self,breed):\n",
    "        self.breed = breed\n",
    "\n",
    "dog1 = dog(breed = 'Lab')\n",
    "dog2 = dog(breed = 'huskie')"
   ]
  },
  {
   "cell_type": "markdown",
   "id": "67ee8270",
   "metadata": {},
   "source": [
    "Lets break down what we have above.The special method\n",
    "\n",
    "__init__() \n",
    "is called automatically right after the object has been created:\n",
    "\n",
    "def __init__(self, breed):\n",
    "Each attribute in a class definition begins with a reference to the instance object. It is by convention named self. The breed is the argument. The value is passed during the class instantiation.\n",
    "\n",
    " self.breed = breed\n",
    "Now we have created two instances of the Dog class. With two breed types, we can then access these attributes like this:"
   ]
  },
  {
   "cell_type": "code",
   "execution_count": 6,
   "id": "d8d29acf",
   "metadata": {},
   "outputs": [
    {
     "data": {
      "text/plain": [
       "'Lab'"
      ]
     },
     "execution_count": 6,
     "metadata": {},
     "output_type": "execute_result"
    }
   ],
   "source": [
    "dog1.breed"
   ]
  },
  {
   "cell_type": "code",
   "execution_count": 7,
   "id": "5c7aa813",
   "metadata": {},
   "outputs": [
    {
     "data": {
      "text/plain": [
       "'huskie'"
      ]
     },
     "execution_count": 7,
     "metadata": {},
     "output_type": "execute_result"
    }
   ],
   "source": [
    "dog2.breed"
   ]
  },
  {
   "cell_type": "markdown",
   "id": "c854c964",
   "metadata": {},
   "source": [
    "Note how we don't have any parentheses after breed; this is because it is an attribute and doesn't take any arguments.\n",
    "\n",
    "In Python there are also class object attributes. These Class Object Attributes are the same for any instance of the class. For example, we could create the attribute species for the Dog class. Dogs, regardless of their breed, name, or other attributes, will always be mammals. We apply this logic in the following manner:"
   ]
  },
  {
   "cell_type": "code",
   "execution_count": 8,
   "id": "2519fb8a",
   "metadata": {},
   "outputs": [
    {
     "data": {
      "text/plain": [
       "'mammal'"
      ]
     },
     "execution_count": 8,
     "metadata": {},
     "output_type": "execute_result"
    }
   ],
   "source": [
    "class Dog:\n",
    "    #class object attribute.It is same for any instance of the class.\n",
    "    species = 'mammal'\n",
    "    def __init__(self,breed,name):\n",
    "        self.breed = breed\n",
    "        self.name = name\n",
    "\n",
    "dog1 = Dog('lamb','tiger')\n",
    "\n",
    "\n",
    "dog1.species\n"
   ]
  },
  {
   "cell_type": "code",
   "execution_count": 9,
   "id": "64fbd59f",
   "metadata": {},
   "outputs": [
    {
     "data": {
      "text/plain": [
       "'tiger'"
      ]
     },
     "execution_count": 9,
     "metadata": {},
     "output_type": "execute_result"
    }
   ],
   "source": [
    "dog1.name"
   ]
  },
  {
   "cell_type": "markdown",
   "id": "2b554cac",
   "metadata": {},
   "source": [
    "### Methods\n",
    "Methods are functions defined inside the body of a class. They are used to perform operations with the attributes of our objects. Methods are a key concept of the OOP paradigm. They are essential to dividing responsibilities in programming, especially in large applications.\n",
    "\n",
    "You can basically think of methods as functions acting on an Object that take the Object itself into account through its self argument.\n",
    "\n",
    "Let's go through an example of creating a Circle class:"
   ]
  },
  {
   "cell_type": "code",
   "execution_count": 15,
   "id": "25de747d",
   "metadata": {},
   "outputs": [
    {
     "name": "stdout",
     "output_type": "stream",
     "text": [
      "radious is  1\n",
      "area is  3.14\n",
      "curcumference is  6.28\n"
     ]
    }
   ],
   "source": [
    "class Circle:\n",
    "    pi = 3.14\n",
    "    \n",
    "    def __init__(self,radious = 1):\n",
    "        self.radious = radious\n",
    "        self.area = radious * radious * Circle.pi\n",
    "\n",
    "    def setRadious(self,new_radious):\n",
    "        self.radious = new_radious\n",
    "        self.area = new_radious * new_radious * self.pi\n",
    "    \n",
    "    def getCurcumference(self):\n",
    "        return self.radious * self.pi *2\n",
    "\n",
    "\n",
    "c = Circle()\n",
    "print('radious is ' , c.radious)\n",
    "print('area is ' , c.area)\n",
    "print('curcumference is ' , c.getCurcumference())\n",
    "        "
   ]
  },
  {
   "cell_type": "markdown",
   "id": "2676524a",
   "metadata": {},
   "source": [
    "In the __init__ method above, in order to calculate the area attribute, we had to call Circle.pi. This is because the object does not yet have its own .pi attribute, so we call the Class Object Attribute pi instead.\n",
    "In the setRadius method, however, we'll be working with an existing Circle object that does have its own pi attribute. Here we can use either Circle.pi or self.pi.\n",
    "\n",
    "Now let's change the radius and see how that affects our Circle object:"
   ]
  },
  {
   "cell_type": "code",
   "execution_count": 16,
   "id": "562077ca",
   "metadata": {},
   "outputs": [
    {
     "name": "stdout",
     "output_type": "stream",
     "text": [
      "radious is  3\n",
      "area is  28.26\n",
      "curcumference is  18.84\n"
     ]
    }
   ],
   "source": [
    "c.setRadious(3)\n",
    "print('radious is ' , c.radious)\n",
    "print('area is ' , c.area)\n",
    "print('curcumference is ' , c.getCurcumference())"
   ]
  },
  {
   "cell_type": "markdown",
   "id": "1dc7ffa7",
   "metadata": {},
   "source": [
    "## Inheritance\n",
    "Inheritance is a way to form new classes using classes that have already been defined. The newly formed classes are called derived classes, the classes that we derive from are called base classes. Important benefits of inheritance are code reuse and reduction of complexity of a program. The derived classes (descendants) override or extend the functionality of base classes (ancestors).\n",
    "\n",
    "Let's see an example by incorporating our previous work on the Dog class:"
   ]
  },
  {
   "cell_type": "code",
   "execution_count": 22,
   "id": "4d50ea6b",
   "metadata": {},
   "outputs": [],
   "source": [
    "class Animal:\n",
    "    def __init__(self):\n",
    "        print('Animal is created')\n",
    "    \n",
    "    def whoAmI(self):\n",
    "        print('Animal')\n",
    "    \n",
    "    def eat(self):\n",
    "        print('eating')\n",
    "\n",
    "class Dog(Animal):\n",
    "    def __init__(self):\n",
    "        Animal.__init__(self)\n",
    "        print('Dog is created')\n",
    "    \n",
    "    def whoAmI(self):\n",
    "        print('this is dog')\n",
    "    \n",
    "    def bark(self):\n",
    "        print('I can bark')\n"
   ]
  },
  {
   "cell_type": "code",
   "execution_count": 23,
   "id": "15fe7791",
   "metadata": {},
   "outputs": [
    {
     "name": "stdout",
     "output_type": "stream",
     "text": [
      "Animal is created\n",
      "Dog is created\n"
     ]
    }
   ],
   "source": [
    "d = Dog()"
   ]
  },
  {
   "cell_type": "code",
   "execution_count": 24,
   "id": "19b77adf",
   "metadata": {},
   "outputs": [
    {
     "name": "stdout",
     "output_type": "stream",
     "text": [
      "this is dog\n"
     ]
    }
   ],
   "source": [
    "d.whoAmI()"
   ]
  },
  {
   "cell_type": "code",
   "execution_count": 25,
   "id": "d02eaff6",
   "metadata": {},
   "outputs": [
    {
     "name": "stdout",
     "output_type": "stream",
     "text": [
      "eating\n"
     ]
    }
   ],
   "source": [
    "d.eat()"
   ]
  },
  {
   "cell_type": "code",
   "execution_count": 26,
   "id": "566ef902",
   "metadata": {},
   "outputs": [
    {
     "name": "stdout",
     "output_type": "stream",
     "text": [
      "I can bark\n"
     ]
    }
   ],
   "source": [
    "d.bark()"
   ]
  },
  {
   "cell_type": "markdown",
   "id": "55072e4d",
   "metadata": {},
   "source": [
    "In this example, we have two classes: Animal and Dog. The Animal is the base class, the Dog is the derived class.\n",
    "\n",
    "The derived class inherits the functionality of the base class.\n",
    "\n",
    "It is shown by the eat() method.\n",
    "The derived class modifies existing behavior of the base class.\n",
    "\n",
    "shown by the whoAmI() method.\n",
    "Finally, the derived class extends the functionality of the base class, by defining a new bark() method."
   ]
  },
  {
   "cell_type": "markdown",
   "id": "c8f46491",
   "metadata": {},
   "source": [
    "## Polymorphism\n",
    "We've learned that while functions can take in different arguments, methods belong to the objects they act on. In Python, polymorphism refers to the way in which different object classes can share the same method name, and those methods can be called from the same place even though a variety of different objects might be passed in. The best way to explain this is by example:"
   ]
  },
  {
   "cell_type": "code",
   "execution_count": 30,
   "id": "8b399711",
   "metadata": {},
   "outputs": [
    {
     "name": "stdout",
     "output_type": "stream",
     "text": [
      "tiger dog is speaking!!\n",
      "cuty cat is speaking!!\n"
     ]
    }
   ],
   "source": [
    "class Dog:\n",
    "    def __init__(self,name):\n",
    "        self.name = name\n",
    "    \n",
    "    def speak(self):\n",
    "        return self.name + ' dog is speaking!!' \n",
    "        \n",
    "class Cat:\n",
    "    def __init__(self,name):\n",
    "        self.name = name\n",
    "    \n",
    "    def speak(self):\n",
    "        return self.name + ' cat is speaking!!'\n",
    "\n",
    "tiger = Dog('tiger')\n",
    "cuty = Cat('cuty')\n",
    "\n",
    "print(tiger.speak())\n",
    "print(cuty.speak())\n"
   ]
  },
  {
   "cell_type": "markdown",
   "id": "1792eb26",
   "metadata": {},
   "source": [
    "Here we have a Dog class and a Cat class, and each has a .speak() method. When called, each object's .speak() method returns a result unique to the object.\n",
    "\n",
    "There a few different ways to demonstrate polymorphism. First, with a for loop:"
   ]
  },
  {
   "cell_type": "code",
   "execution_count": 31,
   "id": "24aca04d",
   "metadata": {},
   "outputs": [
    {
     "name": "stdout",
     "output_type": "stream",
     "text": [
      "tiger dog is speaking!!\n",
      "cuty cat is speaking!!\n"
     ]
    }
   ],
   "source": [
    "for pet in [tiger,cuty]:\n",
    "    print(pet.speak())"
   ]
  },
  {
   "cell_type": "markdown",
   "id": "6a7b5ff2",
   "metadata": {},
   "source": [
    "A more common practice is to use abstract classes and inheritance. An abstract class is one that never expects to be instantiated. For example, we will never have an Animal object, only Dog and Cat objects, although Dogs and Cats are derived from Animals:"
   ]
  },
  {
   "cell_type": "code",
   "execution_count": 32,
   "id": "f666f00b",
   "metadata": {},
   "outputs": [
    {
     "name": "stdout",
     "output_type": "stream",
     "text": [
      "pupsays woof\n",
      "Cutycat says meow\n"
     ]
    }
   ],
   "source": [
    "class Animal:\n",
    "    def __init__(self,name):\n",
    "        self.name = name\n",
    "    \n",
    "    def speak(self):\n",
    "        raise NotImplementedError(\"subclass must implement abstract class\")\n",
    "\n",
    "class Dog(Animal):\n",
    "    \n",
    "    def speak(self):\n",
    "        return self.name + ' says woof'\n",
    "\n",
    "class Cat(Animal):\n",
    "    \n",
    "    def speak(self):\n",
    "        return self.name + \" cat says meow\"\n",
    "\n",
    "\n",
    "pup = Dog('pup')\n",
    "cuty = Cat('Cuty')\n",
    "\n",
    "print(pup.speak())\n",
    "print(cuty.speak())\n",
    "        "
   ]
  },
  {
   "cell_type": "markdown",
   "id": "a692d55d",
   "metadata": {},
   "source": [
    "Real life examples of polymorphism include:\n",
    "\n",
    "opening different file types - different tools are needed to display Word, pdf and Excel files\n",
    "adding different objects - the + operator performs arithmetic and concatenation"
   ]
  },
  {
   "cell_type": "markdown",
   "id": "b0a145b4",
   "metadata": {},
   "source": [
    "## Special Methods\n",
    "Finally let's go over special methods. Classes in Python can implement certain operations with special method names. These methods are not actually called directly but by Python specific language syntax. For example let's create a Book class:"
   ]
  },
  {
   "cell_type": "code",
   "execution_count": 43,
   "id": "c691a368",
   "metadata": {},
   "outputs": [],
   "source": [
    "class Book:\n",
    "    def __init__(self,title,author,pages):\n",
    "        print('book is created!!')\n",
    "        self.title = title\n",
    "        self.author = author\n",
    "        self.pages = pages\n",
    "    \n",
    "    def __str__(self):\n",
    "        return \"Title : {} author : {} ,pages: {}\".format(self.title,self.author,self.pages)\n",
    "    \n",
    "    def __len__(self):\n",
    "        return self.pages\n",
    "    \n",
    "    def __del__(self):\n",
    "        print('book is destroyed!!')\n",
    "    "
   ]
  },
  {
   "cell_type": "code",
   "execution_count": 44,
   "id": "444906da",
   "metadata": {},
   "outputs": [
    {
     "name": "stdout",
     "output_type": "stream",
     "text": [
      "book is created!!\n",
      "Title : cracking coding interview author : gaylee ,pages: 500\n",
      "500\n",
      "book is destroyed!!\n"
     ]
    }
   ],
   "source": [
    "b = Book('cracking coding interview','gaylee',500)\n",
    "\n",
    "print(b)\n",
    "print(len(b))\n",
    "del b\n"
   ]
  }
 ],
 "metadata": {
  "kernelspec": {
   "display_name": "Python 3 (ipykernel)",
   "language": "python",
   "name": "python3"
  },
  "language_info": {
   "codemirror_mode": {
    "name": "ipython",
    "version": 3
   },
   "file_extension": ".py",
   "mimetype": "text/x-python",
   "name": "python",
   "nbconvert_exporter": "python",
   "pygments_lexer": "ipython3",
   "version": "3.9.7"
  }
 },
 "nbformat": 4,
 "nbformat_minor": 5
}
