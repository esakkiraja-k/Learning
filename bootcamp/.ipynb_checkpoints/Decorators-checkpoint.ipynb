{
 "cells": [
  {
   "cell_type": "markdown",
   "id": "36a9b073",
   "metadata": {},
   "source": [
    "## Decorators\n",
    "Decorators can be thought of as functions which modify the functionality of another function. They help to make your code shorter and more \"Pythonic\".\n",
    "\n",
    "To properly explain decorators we will slowly build up from functions. Make sure to run every cell in this Notebook for this lecture to look the same on your own computer.\n",
    "\n",
    "So let's break down the steps:"
   ]
  },
  {
   "cell_type": "code",
   "execution_count": 1,
   "id": "856c8810",
   "metadata": {},
   "outputs": [],
   "source": [
    "def func():\n",
    "    return 1"
   ]
  },
  {
   "cell_type": "code",
   "execution_count": 2,
   "id": "6191089d",
   "metadata": {},
   "outputs": [
    {
     "data": {
      "text/plain": [
       "1"
      ]
     },
     "execution_count": 2,
     "metadata": {},
     "output_type": "execute_result"
    }
   ],
   "source": [
    "func()"
   ]
  },
  {
   "cell_type": "code",
   "execution_count": 4,
   "id": "dc7b9639",
   "metadata": {},
   "outputs": [],
   "source": [
    "s = 'global'\n",
    "\n",
    "def check_for_locals():\n",
    "    print(locals())"
   ]
  },
  {
   "cell_type": "code",
   "execution_count": 5,
   "id": "93b87de8",
   "metadata": {},
   "outputs": [
    {
     "name": "stdout",
     "output_type": "stream",
     "text": [
      "{'__name__': '__main__', '__doc__': 'Automatically created module for IPython interactive environment', '__package__': None, '__loader__': None, '__spec__': None, '__builtin__': <module 'builtins' (built-in)>, '__builtins__': <module 'builtins' (built-in)>, '_ih': ['', 'def func():\\n    return 1', 'func()', \"s = 'global'\\n\\ndef check_for_locals():\\n    print(locals())\", \"s = 'global'\\n\\ndef check_for_locals():\\n    print(locals())\", 'print(globals())'], '_oh': {2: 1}, '_dh': ['C:\\\\Users\\\\esakkiraja.kandasamy\\\\OneDrive - Avantor\\\\Learning\\\\Python\\\\bootcamp'], 'In': ['', 'def func():\\n    return 1', 'func()', \"s = 'global'\\n\\ndef check_for_locals():\\n    print(locals())\", \"s = 'global'\\n\\ndef check_for_locals():\\n    print(locals())\", 'print(globals())'], 'Out': {2: 1}, 'get_ipython': <bound method InteractiveShell.get_ipython of <ipykernel.zmqshell.ZMQInteractiveShell object at 0x0000019EE40A4D60>>, 'exit': <IPython.core.autocall.ZMQExitAutocall object at 0x0000019EE40DAA60>, 'quit': <IPython.core.autocall.ZMQExitAutocall object at 0x0000019EE40DAA60>, '_': 1, '__': '', '___': '', '_i': \"s = 'global'\\n\\ndef check_for_locals():\\n    print(locals())\", '_ii': \"s = 'global'\\n\\ndef check_for_locals():\\n    print(locals())\", '_iii': 'func()', '_i1': 'def func():\\n    return 1', 'func': <function func at 0x0000019EE41373A0>, '_i2': 'func()', '_2': 1, '_i3': \"s = 'global'\\n\\ndef check_for_locals():\\n    print(locals())\", 's': 'global', 'check_for_locals': <function check_for_locals at 0x0000019EE4137940>, '_i4': \"s = 'global'\\n\\ndef check_for_locals():\\n    print(locals())\", '_i5': 'print(globals())'}\n"
     ]
    }
   ],
   "source": [
    "print(globals())"
   ]
  },
  {
   "cell_type": "code",
   "execution_count": 6,
   "id": "e39e2a86",
   "metadata": {},
   "outputs": [
    {
     "name": "stdout",
     "output_type": "stream",
     "text": [
      "dict_keys(['__name__', '__doc__', '__package__', '__loader__', '__spec__', '__builtin__', '__builtins__', '_ih', '_oh', '_dh', 'In', 'Out', 'get_ipython', 'exit', 'quit', '_', '__', '___', '_i', '_ii', '_iii', '_i1', 'func', '_i2', '_2', '_i3', 's', 'check_for_locals', '_i4', '_i5', '_i6'])\n"
     ]
    }
   ],
   "source": [
    "print(globals().keys())"
   ]
  },
  {
   "cell_type": "code",
   "execution_count": 8,
   "id": "6ccac7b7",
   "metadata": {},
   "outputs": [
    {
     "data": {
      "text/plain": [
       "'global'"
      ]
     },
     "execution_count": 8,
     "metadata": {},
     "output_type": "execute_result"
    }
   ],
   "source": [
    "globals()['s']"
   ]
  },
  {
   "cell_type": "markdown",
   "id": "4df95650",
   "metadata": {},
   "source": [
    "Great! Now lets continue with building out the logic of what a decorator is. Remember that in Python everything is an object. That means functions are objects which can be assigned labels and passed into other functions. Lets start with some simple examples:"
   ]
  },
  {
   "cell_type": "code",
   "execution_count": 10,
   "id": "f40b2ce6",
   "metadata": {},
   "outputs": [],
   "source": [
    "def hello(name ='name'):\n",
    "    return 'hello' + name\n"
   ]
  },
  {
   "cell_type": "code",
   "execution_count": 12,
   "id": "6849a84e",
   "metadata": {},
   "outputs": [
    {
     "data": {
      "text/plain": [
       "'helloname'"
      ]
     },
     "execution_count": 12,
     "metadata": {},
     "output_type": "execute_result"
    }
   ],
   "source": [
    "hello()"
   ]
  },
  {
   "cell_type": "code",
   "execution_count": 14,
   "id": "6464ad08",
   "metadata": {},
   "outputs": [],
   "source": [
    "x = hello"
   ]
  },
  {
   "cell_type": "code",
   "execution_count": 17,
   "id": "717d6c4e",
   "metadata": {},
   "outputs": [
    {
     "data": {
      "text/plain": [
       "'helloname'"
      ]
     },
     "execution_count": 17,
     "metadata": {},
     "output_type": "execute_result"
    }
   ],
   "source": [
    "x()"
   ]
  },
  {
   "cell_type": "code",
   "execution_count": 18,
   "id": "521ce81c",
   "metadata": {},
   "outputs": [],
   "source": [
    "del hello"
   ]
  },
  {
   "cell_type": "code",
   "execution_count": 19,
   "id": "df8046e1",
   "metadata": {},
   "outputs": [
    {
     "ename": "NameError",
     "evalue": "name 'hello' is not defined",
     "output_type": "error",
     "traceback": [
      "\u001b[1;31m---------------------------------------------------------------------------\u001b[0m",
      "\u001b[1;31mNameError\u001b[0m                                 Traceback (most recent call last)",
      "\u001b[1;32mC:\\Users\\ESAKKI~1.KAN\\AppData\\Local\\Temp/ipykernel_11084/2674044599.py\u001b[0m in \u001b[0;36m<module>\u001b[1;34m\u001b[0m\n\u001b[1;32m----> 1\u001b[1;33m \u001b[0mhello\u001b[0m\u001b[1;33m(\u001b[0m\u001b[1;33m)\u001b[0m\u001b[1;33m\u001b[0m\u001b[1;33m\u001b[0m\u001b[0m\n\u001b[0m",
      "\u001b[1;31mNameError\u001b[0m: name 'hello' is not defined"
     ]
    }
   ],
   "source": [
    "hello()"
   ]
  },
  {
   "cell_type": "code",
   "execution_count": 20,
   "id": "6fdbbaf9",
   "metadata": {},
   "outputs": [
    {
     "data": {
      "text/plain": [
       "'helloname'"
      ]
     },
     "execution_count": 20,
     "metadata": {},
     "output_type": "execute_result"
    }
   ],
   "source": [
    "x()"
   ]
  },
  {
   "cell_type": "markdown",
   "id": "f8905a4c",
   "metadata": {},
   "source": [
    "### Functions within functions\n",
    "Great! So we've seen how we can treat functions as objects, now let's see how we can define functions inside of other functions:"
   ]
  },
  {
   "cell_type": "code",
   "execution_count": 21,
   "id": "9ce6838e",
   "metadata": {},
   "outputs": [],
   "source": [
    "def hello(name= 'test'):\n",
    "    print('hello function has been executed')\n",
    "    \n",
    "    def nestedfunc():\n",
    "        return 'hello from nested func'\n",
    "    \n",
    "    def nestedfunc2():\n",
    "        return 'hellow from nested func2'\n",
    "        \n",
    "    print(nestedfunc())\n",
    "    print(nestedfunc2())\n",
    "    print('continue with hello function')"
   ]
  },
  {
   "cell_type": "code",
   "execution_count": 22,
   "id": "92140040",
   "metadata": {},
   "outputs": [
    {
     "name": "stdout",
     "output_type": "stream",
     "text": [
      "hello function has been executed\n",
      "hello from nested func\n",
      "hellow from nested func2\n",
      "continue with hello function\n"
     ]
    }
   ],
   "source": [
    "hello()"
   ]
  },
  {
   "cell_type": "code",
   "execution_count": 24,
   "id": "df14c228",
   "metadata": {},
   "outputs": [
    {
     "ename": "NameError",
     "evalue": "name 'nestedfunc' is not defined",
     "output_type": "error",
     "traceback": [
      "\u001b[1;31m---------------------------------------------------------------------------\u001b[0m",
      "\u001b[1;31mNameError\u001b[0m                                 Traceback (most recent call last)",
      "\u001b[1;32mC:\\Users\\ESAKKI~1.KAN\\AppData\\Local\\Temp/ipykernel_11084/2571144436.py\u001b[0m in \u001b[0;36m<module>\u001b[1;34m\u001b[0m\n\u001b[1;32m----> 1\u001b[1;33m \u001b[0mnestedfunc\u001b[0m\u001b[1;33m(\u001b[0m\u001b[1;33m)\u001b[0m\u001b[1;33m\u001b[0m\u001b[1;33m\u001b[0m\u001b[0m\n\u001b[0m",
      "\u001b[1;31mNameError\u001b[0m: name 'nestedfunc' is not defined"
     ]
    }
   ],
   "source": [
    "nestedfunc()"
   ]
  },
  {
   "cell_type": "markdown",
   "id": "53b27bba",
   "metadata": {},
   "source": [
    "Note how due to scope, the welcome() function is not defined outside of the hello() function. Now lets learn about returning functions from within functions:\n",
    "\n",
    "## Returning Functions"
   ]
  },
  {
   "cell_type": "code",
   "execution_count": 25,
   "id": "ce4232a5",
   "metadata": {},
   "outputs": [],
   "source": [
    "def hello(name = 'test'):\n",
    "    \n",
    "    def greet():\n",
    "        return ' hi from greet function'\n",
    "    \n",
    "    def welcome():\n",
    "        return 'hi from welcome function'\n",
    "    \n",
    "    if name == 'test':\n",
    "        return greet\n",
    "    else:\n",
    "        return welcome\n"
   ]
  },
  {
   "cell_type": "code",
   "execution_count": 30,
   "id": "61451f95",
   "metadata": {},
   "outputs": [],
   "source": [
    "x = hello()"
   ]
  },
  {
   "cell_type": "code",
   "execution_count": 31,
   "id": "7514396c",
   "metadata": {},
   "outputs": [
    {
     "data": {
      "text/plain": [
       "<function __main__.hello.<locals>.greet()>"
      ]
     },
     "execution_count": 31,
     "metadata": {},
     "output_type": "execute_result"
    }
   ],
   "source": [
    "x"
   ]
  },
  {
   "cell_type": "code",
   "execution_count": 32,
   "id": "7d35b4a6",
   "metadata": {},
   "outputs": [
    {
     "name": "stdout",
     "output_type": "stream",
     "text": [
      " hi from greet function\n"
     ]
    }
   ],
   "source": [
    "print(x())"
   ]
  },
  {
   "cell_type": "markdown",
   "id": "56ca2f15",
   "metadata": {},
   "source": [
    "## Functions as Arguments\n",
    "Now let's see how we can pass functions as arguments into other functions:"
   ]
  },
  {
   "cell_type": "code",
   "execution_count": 35,
   "id": "52910037",
   "metadata": {},
   "outputs": [],
   "source": [
    "def hello():\n",
    "    return 'hello!!'\n",
    "\n",
    "def anotherfunc(func):\n",
    "    print('another func beginning!!')\n",
    "    print(func())\n",
    "    print('another func end')\n",
    "\n",
    "\n"
   ]
  },
  {
   "cell_type": "code",
   "execution_count": 36,
   "id": "094cb11e",
   "metadata": {},
   "outputs": [
    {
     "name": "stdout",
     "output_type": "stream",
     "text": [
      "another func beginning!!\n",
      "hello!!\n",
      "another func end\n"
     ]
    }
   ],
   "source": [
    "anotherfunc(hello)"
   ]
  },
  {
   "cell_type": "markdown",
   "id": "5ab7e87c",
   "metadata": {},
   "source": [
    "## Creating a Decorator\n",
    "In the previous example we actually manually created a Decorator. Here we will modify it to make its use case clear:"
   ]
  },
  {
   "cell_type": "code",
   "execution_count": 41,
   "id": "bddc1474",
   "metadata": {},
   "outputs": [],
   "source": [
    "def new_decorator(func):\n",
    "    \n",
    "    def wrap_func():\n",
    "        print('before executing func')\n",
    "        \n",
    "        func()\n",
    "        \n",
    "        print('after executing the func')\n",
    "    \n",
    "    return wrap_func\n",
    "\n",
    "def func_needs_decorator():\n",
    "    print('this function needs decorator')"
   ]
  },
  {
   "cell_type": "code",
   "execution_count": 42,
   "id": "03b78098",
   "metadata": {},
   "outputs": [
    {
     "name": "stdout",
     "output_type": "stream",
     "text": [
      "this function needs decorator\n"
     ]
    }
   ],
   "source": [
    "func_needs_decorator()"
   ]
  },
  {
   "cell_type": "code",
   "execution_count": 43,
   "id": "0f668ddc",
   "metadata": {},
   "outputs": [],
   "source": [
    "decorated = new_decorator(func_needs_decorator)"
   ]
  },
  {
   "cell_type": "code",
   "execution_count": 45,
   "id": "75a8226d",
   "metadata": {},
   "outputs": [
    {
     "name": "stdout",
     "output_type": "stream",
     "text": [
      "before executing func\n",
      "this function needs decorator\n",
      "after executing the func\n"
     ]
    }
   ],
   "source": [
    "decorated()"
   ]
  },
  {
   "cell_type": "code",
   "execution_count": 46,
   "id": "917b75e8",
   "metadata": {},
   "outputs": [],
   "source": [
    "@new_decorator\n",
    "def another_func_needs_decorator():\n",
    "    print('hi from another func')"
   ]
  },
  {
   "cell_type": "code",
   "execution_count": 47,
   "id": "7ece075e",
   "metadata": {},
   "outputs": [
    {
     "name": "stdout",
     "output_type": "stream",
     "text": [
      "before executing func\n",
      "hi from another func\n",
      "after executing the func\n"
     ]
    }
   ],
   "source": [
    "another_func_needs_decorator()"
   ]
  },
  {
   "cell_type": "code",
   "execution_count": null,
   "id": "ef801796",
   "metadata": {},
   "outputs": [],
   "source": []
  }
 ],
 "metadata": {
  "kernelspec": {
   "display_name": "Python 3 (ipykernel)",
   "language": "python",
   "name": "python3"
  },
  "language_info": {
   "codemirror_mode": {
    "name": "ipython",
    "version": 3
   },
   "file_extension": ".py",
   "mimetype": "text/x-python",
   "name": "python",
   "nbconvert_exporter": "python",
   "pygments_lexer": "ipython3",
   "version": "3.9.7"
  }
 },
 "nbformat": 4,
 "nbformat_minor": 5
}
