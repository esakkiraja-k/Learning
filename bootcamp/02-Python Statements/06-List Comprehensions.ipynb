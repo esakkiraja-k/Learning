{
 "cells": [
  {
   "cell_type": "markdown",
   "id": "1dd78441",
   "metadata": {},
   "source": [
    "## List Comprehensions\n",
    "In addition to sequence operations and list methods, Python includes a more advanced operation called a list comprehension.\n",
    "\n",
    "List comprehensions allow us to build out lists using a different notation. You can think of it as essentially a one line for loop built inside of brackets. For a simple example:"
   ]
  },
  {
   "cell_type": "code",
   "execution_count": 2,
   "id": "78dcb22b",
   "metadata": {},
   "outputs": [],
   "source": [
    "#grap every letter in sting\n",
    "lst = [x for x in 'word']"
   ]
  },
  {
   "cell_type": "code",
   "execution_count": 3,
   "id": "39cc50fd",
   "metadata": {},
   "outputs": [
    {
     "data": {
      "text/plain": [
       "['w', 'o', 'r', 'd']"
      ]
     },
     "execution_count": 3,
     "metadata": {},
     "output_type": "execute_result"
    }
   ],
   "source": [
    "lst"
   ]
  },
  {
   "cell_type": "code",
   "execution_count": 5,
   "id": "17eaa4bb",
   "metadata": {},
   "outputs": [],
   "source": [
    "#square root\n",
    "lst = [x**2 for x in range(0,11)]"
   ]
  },
  {
   "cell_type": "code",
   "execution_count": 6,
   "id": "8ae42e53",
   "metadata": {},
   "outputs": [
    {
     "data": {
      "text/plain": [
       "[0, 1, 4, 9, 16, 25, 36, 49, 64, 81, 100]"
      ]
     },
     "execution_count": 6,
     "metadata": {},
     "output_type": "execute_result"
    }
   ],
   "source": [
    "lst"
   ]
  },
  {
   "cell_type": "code",
   "execution_count": 11,
   "id": "de8361f3",
   "metadata": {},
   "outputs": [],
   "source": [
    "lst = [x for x in range(0,11) if x%2 == 0]"
   ]
  },
  {
   "cell_type": "code",
   "execution_count": 12,
   "id": "1081058a",
   "metadata": {},
   "outputs": [
    {
     "data": {
      "text/plain": [
       "[0, 2, 4, 6, 8, 10]"
      ]
     },
     "execution_count": 12,
     "metadata": {},
     "output_type": "execute_result"
    }
   ],
   "source": [
    "lst"
   ]
  },
  {
   "cell_type": "code",
   "execution_count": 13,
   "id": "b497d8e3",
   "metadata": {},
   "outputs": [],
   "source": [
    "#convert celsius to fahrenheit\n",
    "\n",
    "celsius = [0,10,20.1,34,5]\n",
    "\n",
    "farenheit = [((9/5)* temp + 32) for temp in celsius]"
   ]
  },
  {
   "cell_type": "code",
   "execution_count": 15,
   "id": "9774b477",
   "metadata": {},
   "outputs": [
    {
     "data": {
      "text/plain": [
       "[32.0, 50.0, 68.18, 93.2, 41.0]"
      ]
     },
     "execution_count": 15,
     "metadata": {},
     "output_type": "execute_result"
    }
   ],
   "source": [
    "farenheit"
   ]
  },
  {
   "cell_type": "code",
   "execution_count": 17,
   "id": "b5f1f1c8",
   "metadata": {},
   "outputs": [],
   "source": [
    "#We can also perform nested list comprehensions, for example:\n",
    "lst  = [x**2 for x in [x**2 for x in range(0,11)]]"
   ]
  },
  {
   "cell_type": "code",
   "execution_count": 18,
   "id": "0f2fa652",
   "metadata": {},
   "outputs": [
    {
     "data": {
      "text/plain": [
       "[0, 1, 16, 81, 256, 625, 1296, 2401, 4096, 6561, 10000]"
      ]
     },
     "execution_count": 18,
     "metadata": {},
     "output_type": "execute_result"
    }
   ],
   "source": [
    "lst"
   ]
  }
 ],
 "metadata": {
  "kernelspec": {
   "display_name": "Python 3 (ipykernel)",
   "language": "python",
   "name": "python3"
  },
  "language_info": {
   "codemirror_mode": {
    "name": "ipython",
    "version": 3
   },
   "file_extension": ".py",
   "mimetype": "text/x-python",
   "name": "python",
   "nbconvert_exporter": "python",
   "pygments_lexer": "ipython3",
   "version": "3.9.7"
  }
 },
 "nbformat": 4,
 "nbformat_minor": 5
}
