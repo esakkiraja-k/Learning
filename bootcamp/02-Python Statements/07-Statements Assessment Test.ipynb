{
 "cells": [
  {
   "cell_type": "code",
   "execution_count": 8,
   "id": "21e1cfcf",
   "metadata": {},
   "outputs": [
    {
     "name": "stdout",
     "output_type": "stream",
     "text": [
      "start\n",
      "s\n",
      "sentence\n"
     ]
    }
   ],
   "source": [
    "#Use for, .split(), and if to create a Statement that will print out words that start with 's':\n",
    "\n",
    "st = 'Print only the words that start with s in this sentence'\n",
    "\n",
    "for str in st.split(\" \"):\n",
    "    if str[0] == 's':\n",
    "        print(str)\n",
    "    \n"
   ]
  },
  {
   "cell_type": "code",
   "execution_count": 28,
   "id": "74bbda28",
   "metadata": {},
   "outputs": [
    {
     "data": {
      "text/plain": [
       "[0, 2, 4, 6, 8]"
      ]
     },
     "execution_count": 28,
     "metadata": {},
     "output_type": "execute_result"
    }
   ],
   "source": [
    "#Use range() to print all the even numbers from 0 to 10.\n",
    "list(range(0,10,2))\n"
   ]
  },
  {
   "cell_type": "code",
   "execution_count": 7,
   "id": "8cc4f971",
   "metadata": {},
   "outputs": [
    {
     "name": "stdout",
     "output_type": "stream",
     "text": [
      "[3, 6, 9, 12, 15, 18, 21, 24, 27, 30, 33, 36, 39, 42, 45, 48]\n"
     ]
    }
   ],
   "source": [
    "#Use a List Comprehension to create a list of all numbers between 1 and 50 that are divisible by 3.\n",
    "\n",
    "lst = [i for i in range(1,51) if i%3 == 0]\n",
    "print(lst)"
   ]
  },
  {
   "cell_type": "code",
   "execution_count": 30,
   "id": "a5034478",
   "metadata": {},
   "outputs": [
    {
     "name": "stdout",
     "output_type": "stream",
     "text": [
      "word even!\n",
      "in even!\n",
      "this even!\n",
      "sentence even!\n",
      "that even!\n",
      "an even!\n",
      "even even!\n",
      "number even!\n",
      "of even!\n"
     ]
    }
   ],
   "source": [
    "#Go through the string below and if the length of a word is even print \"even!\"\n",
    "\n",
    "st = 'Print every word in this sentence that has an even number of letters'\n",
    "\n",
    "for str in st.split(\" \"):\n",
    "    if(len(str)%2 == 0):\n",
    "        print(str + ' even!')\n"
   ]
  },
  {
   "cell_type": "code",
   "execution_count": 20,
   "id": "b0bc25eb",
   "metadata": {},
   "outputs": [
    {
     "name": "stdout",
     "output_type": "stream",
     "text": [
      "Fizz\n",
      "Fizz\n",
      "Buzz\n",
      "Fizz\n",
      "Fizz\n",
      "Buzz\n",
      "Fizz\n",
      "Fizz\n",
      "Buzz\n",
      "Fizz\n",
      "Fizz\n",
      "Buzz\n",
      "Fizz\n",
      "Fizz\n",
      "FizzBuzz\n",
      "Fizz\n",
      "Fizz\n",
      "Buzz\n",
      "Fizz\n",
      "Fizz\n",
      "Buzz\n",
      "Fizz\n",
      "Fizz\n",
      "Buzz\n",
      "Fizz\n",
      "Fizz\n",
      "Buzz\n",
      "Fizz\n",
      "Fizz\n",
      "FizzBuzz\n",
      "Fizz\n",
      "Fizz\n",
      "Buzz\n",
      "Fizz\n",
      "Fizz\n",
      "Buzz\n",
      "Fizz\n",
      "Fizz\n",
      "Buzz\n",
      "Fizz\n",
      "Fizz\n",
      "Buzz\n",
      "Fizz\n",
      "Fizz\n",
      "FizzBuzz\n",
      "Fizz\n",
      "Fizz\n",
      "Buzz\n",
      "Fizz\n",
      "Fizz\n",
      "Buzz\n",
      "Fizz\n",
      "Fizz\n",
      "Buzz\n",
      "Fizz\n",
      "Fizz\n",
      "Buzz\n",
      "Fizz\n",
      "Fizz\n",
      "FizzBuzz\n",
      "Fizz\n",
      "Fizz\n",
      "Buzz\n",
      "Fizz\n",
      "Fizz\n",
      "Buzz\n",
      "Fizz\n",
      "Fizz\n",
      "Buzz\n",
      "Fizz\n",
      "Fizz\n",
      "Buzz\n",
      "Fizz\n",
      "Fizz\n",
      "FizzBuzz\n",
      "Fizz\n",
      "Fizz\n",
      "Buzz\n",
      "Fizz\n",
      "Fizz\n",
      "Buzz\n",
      "Fizz\n",
      "Fizz\n",
      "Buzz\n",
      "Fizz\n",
      "Fizz\n",
      "Buzz\n",
      "Fizz\n",
      "Fizz\n",
      "FizzBuzz\n",
      "Fizz\n",
      "Fizz\n",
      "Buzz\n",
      "Fizz\n",
      "Fizz\n",
      "Buzz\n",
      "Fizz\n",
      "Fizz\n",
      "Buzz\n",
      "Fizz\n"
     ]
    }
   ],
   "source": [
    "for x in range(1,101):\n",
    "    if(x%3 == 0 and x %5 == 0):\n",
    "        print(\"FizzBuzz\")\n",
    "    elif(x%3):\n",
    "        print(\"Fizz\")\n",
    "    elif(x%5):\n",
    "        print(\"Buzz\")\n",
    "    else:\n",
    "        pass\n",
    "    \n",
    "    "
   ]
  },
  {
   "cell_type": "code",
   "execution_count": 25,
   "id": "af0c1552",
   "metadata": {},
   "outputs": [],
   "source": [
    "#Use List Comprehension to create a list of the first letters of every word in the string below:\n",
    "st = 'Create a list of the first letters of every word in this string'\n",
    "lst = [i[0] for i in st.split(\" \")]"
   ]
  },
  {
   "cell_type": "code",
   "execution_count": 26,
   "id": "6e97119f",
   "metadata": {},
   "outputs": [
    {
     "data": {
      "text/plain": [
       "['C', 'a', 'l', 'o', 't', 'f', 'l', 'o', 'e', 'w', 'i', 't', 's']"
      ]
     },
     "execution_count": 26,
     "metadata": {},
     "output_type": "execute_result"
    }
   ],
   "source": [
    "lst"
   ]
  }
 ],
 "metadata": {
  "kernelspec": {
   "display_name": "Python 3 (ipykernel)",
   "language": "python",
   "name": "python3"
  },
  "language_info": {
   "codemirror_mode": {
    "name": "ipython",
    "version": 3
   },
   "file_extension": ".py",
   "mimetype": "text/x-python",
   "name": "python",
   "nbconvert_exporter": "python",
   "pygments_lexer": "ipython3",
   "version": "3.9.7"
  }
 },
 "nbformat": 4,
 "nbformat_minor": 5
}
