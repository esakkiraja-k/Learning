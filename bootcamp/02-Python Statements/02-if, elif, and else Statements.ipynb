{
 "cells": [
  {
   "cell_type": "code",
   "execution_count": 1,
   "id": "25d9052a",
   "metadata": {},
   "outputs": [
    {
     "name": "stdout",
     "output_type": "stream",
     "text": [
      "hello world!!\n"
     ]
    }
   ],
   "source": [
    "if True:\n",
    "    print(\"hello world!!\")"
   ]
  },
  {
   "cell_type": "code",
   "execution_count": 2,
   "id": "ee4e77f0",
   "metadata": {},
   "outputs": [
    {
     "name": "stdout",
     "output_type": "stream",
     "text": [
      "x is false\n"
     ]
    }
   ],
   "source": [
    "x = False\n",
    "if x:\n",
    "    print(\"x is true\")\n",
    "else:\n",
    "    print(\"x is false\")"
   ]
  },
  {
   "cell_type": "code",
   "execution_count": 4,
   "id": "9aa4338b",
   "metadata": {},
   "outputs": [
    {
     "name": "stdout",
     "output_type": "stream",
     "text": [
      "you are in bank\n"
     ]
    }
   ],
   "source": [
    "loc = 'bank'\n",
    "\n",
    "if loc == ' auto shop':\n",
    "    print(' you are in auto shop')\n",
    "elif loc == 'bank':\n",
    "    print('you are in bank')\n",
    "else:\n",
    "    print('where are you?')"
   ]
  },
  {
   "cell_type": "code",
   "execution_count": null,
   "id": "f3414da5",
   "metadata": {},
   "outputs": [],
   "source": []
  },
  {
   "cell_type": "code",
   "execution_count": null,
   "id": "8547c8a4",
   "metadata": {},
   "outputs": [],
   "source": []
  }
 ],
 "metadata": {
  "kernelspec": {
   "display_name": "Python 3 (ipykernel)",
   "language": "python",
   "name": "python3"
  },
  "language_info": {
   "codemirror_mode": {
    "name": "ipython",
    "version": 3
   },
   "file_extension": ".py",
   "mimetype": "text/x-python",
   "name": "python",
   "nbconvert_exporter": "python",
   "pygments_lexer": "ipython3",
   "version": "3.9.7"
  }
 },
 "nbformat": 4,
 "nbformat_minor": 5
}
