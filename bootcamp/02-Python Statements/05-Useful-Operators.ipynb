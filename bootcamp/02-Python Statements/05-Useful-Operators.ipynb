{
 "cells": [
  {
   "cell_type": "markdown",
   "id": "72170749",
   "metadata": {},
   "source": [
    "## Useful Operators\n",
    "There are a few built-in functions and \"operators\" in Python that don't fit well into any category, so we will go over them in this lecture, let's begin!"
   ]
  },
  {
   "cell_type": "code",
   "execution_count": 2,
   "id": "3f4ec0fe",
   "metadata": {},
   "outputs": [
    {
     "data": {
      "text/plain": [
       "[0, 1, 2, 3, 4, 5, 6, 7, 8, 9, 10]"
      ]
     },
     "execution_count": 2,
     "metadata": {},
     "output_type": "execute_result"
    }
   ],
   "source": [
    "#range function\n",
    "# Notice how 11 is not included, up to but not including 11, just like slice notation!\n",
    "\n",
    "list(range(0,11))"
   ]
  },
  {
   "cell_type": "code",
   "execution_count": 5,
   "id": "6a878db8",
   "metadata": {},
   "outputs": [
    {
     "data": {
      "text/plain": [
       "[0, 2, 4, 6, 8, 10, 12, 14, 16, 18]"
      ]
     },
     "execution_count": 5,
     "metadata": {},
     "output_type": "execute_result"
    }
   ],
   "source": [
    "# Third parameter is step size!\n",
    "# step size just means how big of a jump/leap/step you \n",
    "# take from the starting number to get to the next number.\n",
    "list(range(0,20,2))"
   ]
  },
  {
   "cell_type": "markdown",
   "id": "cdee926e",
   "metadata": {},
   "source": [
    "## enumerate\n",
    "enumerate is a very useful function to use with for loops. Let's imagine the following situation:"
   ]
  },
  {
   "cell_type": "code",
   "execution_count": 7,
   "id": "520d84e1",
   "metadata": {},
   "outputs": [
    {
     "name": "stdout",
     "output_type": "stream",
     "text": [
      "at index 0 letter a\n",
      "at index 1 letter b\n",
      "at index 2 letter c\n",
      "at index 3 letter d\n"
     ]
    }
   ],
   "source": [
    "index_count = 0\n",
    "\n",
    "for letter in 'abcd':\n",
    "    print(\"at index {} letter {}\".format(index_count,letter))\n",
    "    index_count +=1\n"
   ]
  },
  {
   "cell_type": "markdown",
   "id": "4c676cea",
   "metadata": {},
   "source": [
    "Keeping track of how many loops you've gone through is so common, that enumerate was created so you don't need to worry about creating and updating this index_count or loop_count variable"
   ]
  },
  {
   "cell_type": "code",
   "execution_count": 10,
   "id": "775a1b95",
   "metadata": {},
   "outputs": [
    {
     "name": "stdout",
     "output_type": "stream",
     "text": [
      "at index 0 letter a\n",
      "at index 1 letter b\n",
      "at index 2 letter c\n",
      "at index 3 letter d\n"
     ]
    }
   ],
   "source": [
    "for i,letter in enumerate('abcd'):\n",
    "    print('at index {} letter {}'.format(i,letter))"
   ]
  },
  {
   "cell_type": "markdown",
   "id": "a6091717",
   "metadata": {},
   "source": [
    "## zip\n",
    "Notice the format enumerate actually returns, let's take a look by transforming it to a list()"
   ]
  },
  {
   "cell_type": "code",
   "execution_count": 11,
   "id": "5badcbc4",
   "metadata": {},
   "outputs": [
    {
     "data": {
      "text/plain": [
       "[(0, 'a'), (1, 'b'), (2, 'c'), (3, 'd')]"
      ]
     },
     "execution_count": 11,
     "metadata": {},
     "output_type": "execute_result"
    }
   ],
   "source": [
    "list(enumerate('abcd'))"
   ]
  },
  {
   "cell_type": "markdown",
   "id": "27817544",
   "metadata": {},
   "source": [
    "It was a list of tuples, meaning we could use tuple unpacking during our for loop. This data structure is actually very common in Python , especially when working with outside libraries. You can use the zip() function to quickly create a list of tuples by \"zipping\" up together two lists."
   ]
  },
  {
   "cell_type": "code",
   "execution_count": 14,
   "id": "7d41c26b",
   "metadata": {},
   "outputs": [
    {
     "data": {
      "text/plain": [
       "[(1, 'a'), (2, 'b'), (3, 'c')]"
      ]
     },
     "execution_count": 14,
     "metadata": {},
     "output_type": "execute_result"
    }
   ],
   "source": [
    "my_list1 = [1,2,3]\n",
    "my_list2 = ['a','b','c']\n",
    "list(zip(my_list1,my_list2))"
   ]
  },
  {
   "cell_type": "code",
   "execution_count": 18,
   "id": "3f83d04b",
   "metadata": {},
   "outputs": [
    {
     "name": "stdout",
     "output_type": "stream",
     "text": [
      "tuple item1 is 1 item2 a\n",
      "tuple item1 is 2 item2 b\n",
      "tuple item1 is 3 item2 c\n"
     ]
    }
   ],
   "source": [
    "\n",
    "for item1,item2 in zip(my_list1,my_list2):\n",
    "    print('tuple item1 is {} item2 {}'.format(item1,item2))"
   ]
  },
  {
   "cell_type": "markdown",
   "id": "432ead65",
   "metadata": {},
   "source": [
    "## in operator\n",
    "We've already seen the in keyword during the for loop, but we can also use it to quickly check if an object is in a list"
   ]
  },
  {
   "cell_type": "code",
   "execution_count": 20,
   "id": "ca2e5382",
   "metadata": {},
   "outputs": [
    {
     "data": {
      "text/plain": [
       "True"
      ]
     },
     "execution_count": 20,
     "metadata": {},
     "output_type": "execute_result"
    }
   ],
   "source": [
    "'x' in ['x','y','z']"
   ]
  },
  {
   "cell_type": "code",
   "execution_count": 22,
   "id": "66700260",
   "metadata": {},
   "outputs": [
    {
     "data": {
      "text/plain": [
       "False"
      ]
     },
     "execution_count": 22,
     "metadata": {},
     "output_type": "execute_result"
    }
   ],
   "source": [
    "'x' in [1,2,3]"
   ]
  },
  {
   "cell_type": "markdown",
   "id": "b7f23526",
   "metadata": {},
   "source": [
    "## not in\n",
    "We can combine in with a not operator, to check if some object or variable is not present in a list."
   ]
  },
  {
   "cell_type": "code",
   "execution_count": 24,
   "id": "6eaa69e4",
   "metadata": {},
   "outputs": [
    {
     "data": {
      "text/plain": [
       "False"
      ]
     },
     "execution_count": 24,
     "metadata": {},
     "output_type": "execute_result"
    }
   ],
   "source": [
    "'x' not in ['x','y']"
   ]
  },
  {
   "cell_type": "code",
   "execution_count": 26,
   "id": "aac0442d",
   "metadata": {},
   "outputs": [
    {
     "data": {
      "text/plain": [
       "True"
      ]
     },
     "execution_count": 26,
     "metadata": {},
     "output_type": "execute_result"
    }
   ],
   "source": [
    "'x' not in ['a','b']"
   ]
  },
  {
   "cell_type": "markdown",
   "id": "4d159c50",
   "metadata": {},
   "source": [
    "## min and max\n",
    "Quickly check the minimum or maximum of a list with these functions."
   ]
  },
  {
   "cell_type": "code",
   "execution_count": 27,
   "id": "13ee1e70",
   "metadata": {},
   "outputs": [],
   "source": [
    "my_list = [10,20,30,40]"
   ]
  },
  {
   "cell_type": "code",
   "execution_count": 28,
   "id": "a6066807",
   "metadata": {},
   "outputs": [
    {
     "data": {
      "text/plain": [
       "10"
      ]
     },
     "execution_count": 28,
     "metadata": {},
     "output_type": "execute_result"
    }
   ],
   "source": [
    "min(my_list)"
   ]
  },
  {
   "cell_type": "code",
   "execution_count": 29,
   "id": "4dba609a",
   "metadata": {},
   "outputs": [
    {
     "data": {
      "text/plain": [
       "40"
      ]
     },
     "execution_count": 29,
     "metadata": {},
     "output_type": "execute_result"
    }
   ],
   "source": [
    "max(my_list)"
   ]
  },
  {
   "cell_type": "markdown",
   "id": "67a92777",
   "metadata": {},
   "source": [
    "## random\n",
    "Python comes with a built in random library. There are a lot of functions included in this random library, so we will only show you two useful functions for now."
   ]
  },
  {
   "cell_type": "code",
   "execution_count": 31,
   "id": "620f75ff",
   "metadata": {},
   "outputs": [],
   "source": [
    "from random import shuffle"
   ]
  },
  {
   "cell_type": "code",
   "execution_count": 33,
   "id": "7b7bd3fc",
   "metadata": {},
   "outputs": [],
   "source": [
    "shuffle(my_list)"
   ]
  },
  {
   "cell_type": "code",
   "execution_count": 35,
   "id": "6dcf1070",
   "metadata": {},
   "outputs": [
    {
     "data": {
      "text/plain": [
       "[20, 30, 40, 10]"
      ]
     },
     "execution_count": 35,
     "metadata": {},
     "output_type": "execute_result"
    }
   ],
   "source": [
    "my_list"
   ]
  },
  {
   "cell_type": "code",
   "execution_count": 37,
   "id": "2df519ef",
   "metadata": {},
   "outputs": [],
   "source": [
    "from random import randint"
   ]
  },
  {
   "cell_type": "code",
   "execution_count": 41,
   "id": "31b9e9c9",
   "metadata": {},
   "outputs": [
    {
     "data": {
      "text/plain": [
       "10"
      ]
     },
     "execution_count": 41,
     "metadata": {},
     "output_type": "execute_result"
    }
   ],
   "source": [
    "randint(1,10)"
   ]
  },
  {
   "cell_type": "code",
   "execution_count": 44,
   "id": "e90c675f",
   "metadata": {},
   "outputs": [
    {
     "data": {
      "text/plain": [
       "31"
      ]
     },
     "execution_count": 44,
     "metadata": {},
     "output_type": "execute_result"
    }
   ],
   "source": [
    "randint(1,100)"
   ]
  },
  {
   "cell_type": "code",
   "execution_count": 45,
   "id": "df8b2815",
   "metadata": {},
   "outputs": [
    {
     "name": "stdout",
     "output_type": "stream",
     "text": [
      "enter your nametest\n"
     ]
    },
    {
     "data": {
      "text/plain": [
       "'test'"
      ]
     },
     "execution_count": 45,
     "metadata": {},
     "output_type": "execute_result"
    }
   ],
   "source": [
    "#input \n",
    "input('enter your name')"
   ]
  }
 ],
 "metadata": {
  "kernelspec": {
   "display_name": "Python 3 (ipykernel)",
   "language": "python",
   "name": "python3"
  },
  "language_info": {
   "codemirror_mode": {
    "name": "ipython",
    "version": 3
   },
   "file_extension": ".py",
   "mimetype": "text/x-python",
   "name": "python",
   "nbconvert_exporter": "python",
   "pygments_lexer": "ipython3",
   "version": "3.9.7"
  }
 },
 "nbformat": 4,
 "nbformat_minor": 5
}
