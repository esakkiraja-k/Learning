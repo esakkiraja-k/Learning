{
 "cells": [
  {
   "cell_type": "code",
   "execution_count": 27,
   "id": "d12499f6",
   "metadata": {},
   "outputs": [],
   "source": [
    "def askInt():\n",
    "    while True:\n",
    "        try:\n",
    "            inputdata = int(input(\"please enter the integer\"))\n",
    "        except:\n",
    "            print('please enter the valid integer!!')\n",
    "            continue\n",
    "        else:\n",
    "            print(\"thats an Integer!!\")\n",
    "            print(inputdata)\n",
    "            break\n",
    "        finally:\n",
    "            print(\"hello from finally block!!\")\n",
    "            \n",
    "            \n",
    "        "
   ]
  },
  {
   "cell_type": "code",
   "execution_count": null,
   "id": "535734c8",
   "metadata": {},
   "outputs": [
    {
     "name": "stdout",
     "output_type": "stream",
     "text": [
      "please enter the integer\n",
      "please enter the valid integer!!\n",
      "hello from finally block!!\n",
      "please enter the integers\n",
      "please enter the valid integer!!\n",
      "hello from finally block!!\n",
      "please enter the integers\n",
      "please enter the valid integer!!\n",
      "hello from finally block!!\n"
     ]
    }
   ],
   "source": [
    "askInt()"
   ]
  }
 ],
 "metadata": {
  "kernelspec": {
   "display_name": "Python 3 (ipykernel)",
   "language": "python",
   "name": "python3"
  },
  "language_info": {
   "codemirror_mode": {
    "name": "ipython",
    "version": 3
   },
   "file_extension": ".py",
   "mimetype": "text/x-python",
   "name": "python",
   "nbconvert_exporter": "python",
   "pygments_lexer": "ipython3",
   "version": "3.9.7"
  }
 },
 "nbformat": 4,
 "nbformat_minor": 5
}
