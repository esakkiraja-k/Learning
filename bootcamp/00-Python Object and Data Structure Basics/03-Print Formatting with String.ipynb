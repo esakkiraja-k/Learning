{
 "cells": [
  {
   "cell_type": "markdown",
   "id": "60322dc6",
   "metadata": {},
   "source": [
    "## String Formatting\n",
    "String formatting lets you inject items into a string rather than trying to chain items together using commas or string concatenation. As a quick comparison, consider:"
   ]
  },
  {
   "cell_type": "code",
   "execution_count": 5,
   "id": "09c10c94",
   "metadata": {},
   "outputs": [
    {
     "data": {
      "text/plain": [
       "'last night,player1 scored 33 points'"
      ]
     },
     "execution_count": 5,
     "metadata": {},
     "output_type": "execute_result"
    }
   ],
   "source": [
    "player = 'player1'\n",
    "points = 33\n",
    "'last night,'+player+' scored ' +str(points) + ' points' #concatenation\n"
   ]
  },
  {
   "cell_type": "code",
   "execution_count": 6,
   "id": "d456891a",
   "metadata": {},
   "outputs": [
    {
     "data": {
      "text/plain": [
       "'Last night,player1 scored 33 points'"
      ]
     },
     "execution_count": 6,
     "metadata": {},
     "output_type": "execute_result"
    }
   ],
   "source": [
    "f'Last night,{player} scored {points} points' #string formatting"
   ]
  },
  {
   "cell_type": "markdown",
   "id": "7890329e",
   "metadata": {},
   "source": [
    "## Formatting with placeholders\n",
    "You can use %s to inject strings into your print statements. The modulo % is referred to as a \"string formatting operator\"."
   ]
  },
  {
   "cell_type": "code",
   "execution_count": 9,
   "id": "a31d699c",
   "metadata": {},
   "outputs": [
    {
     "name": "stdout",
     "output_type": "stream",
     "text": [
      "hello world python!! \n"
     ]
    }
   ],
   "source": [
    "print(\"hello %s python!! \"%'world')"
   ]
  },
  {
   "cell_type": "code",
   "execution_count": 12,
   "id": "9cadb6b0",
   "metadata": {},
   "outputs": [
    {
     "name": "stdout",
     "output_type": "stream",
     "text": [
      "hello world this is python code\n"
     ]
    }
   ],
   "source": [
    "print(\"hello %s this is %s code\" %('world','python'))"
   ]
  },
  {
   "cell_type": "code",
   "execution_count": 1,
   "id": "6e8ec645",
   "metadata": {},
   "outputs": [
    {
     "name": "stdout",
     "output_type": "stream",
     "text": [
      "hello world this is python code\n"
     ]
    }
   ],
   "source": [
    "x,y = 'world','python'\n",
    "print(\"hello %s this is %s code\" %(x,y))"
   ]
  },
  {
   "cell_type": "markdown",
   "id": "3e71e98d",
   "metadata": {},
   "source": [
    "## Format conversion methods.\n",
    "It should be noted that two methods %s and %r convert any python object to a string using two separate methods: str() and repr(). We will learn more about these functions later on in the course, but you should note that %r and repr() deliver the string representation of the object, including quotation marks and any escape characters."
   ]
  },
  {
   "cell_type": "code",
   "execution_count": 2,
   "id": "d9f5f986",
   "metadata": {},
   "outputs": [
    {
     "name": "stdout",
     "output_type": "stream",
     "text": [
      "hello world from python\n"
     ]
    }
   ],
   "source": [
    "print('hello world from %s' %'python')"
   ]
  },
  {
   "cell_type": "code",
   "execution_count": 4,
   "id": "7657ebaa",
   "metadata": {},
   "outputs": [
    {
     "name": "stdout",
     "output_type": "stream",
     "text": [
      "hello world from 'python'\n"
     ]
    }
   ],
   "source": [
    "print('hello world from %r' %'python')"
   ]
  },
  {
   "cell_type": "code",
   "execution_count": 6,
   "id": "247859c0",
   "metadata": {},
   "outputs": [
    {
     "name": "stdout",
     "output_type": "stream",
     "text": [
      "hello world from \tpython\n"
     ]
    }
   ],
   "source": [
    "## As another example, \\t inserts a tab into a string.\n",
    "print('hello world %s' % 'from \\tpython')"
   ]
  },
  {
   "cell_type": "markdown",
   "id": "059d9a81",
   "metadata": {},
   "source": [
    "The %s operator converts whatever it sees into a string, including integers and floats. The %d operator converts numbers to integers first, without rounding. Note the difference below:"
   ]
  },
  {
   "cell_type": "code",
   "execution_count": 8,
   "id": "ba3c8a56",
   "metadata": {},
   "outputs": [
    {
     "name": "stdout",
     "output_type": "stream",
     "text": [
      "I wrote 3.75 programs today\n"
     ]
    }
   ],
   "source": [
    "print('I wrote %s programs today' %3.75)"
   ]
  },
  {
   "cell_type": "code",
   "execution_count": 10,
   "id": "733a5bb2",
   "metadata": {},
   "outputs": [
    {
     "name": "stdout",
     "output_type": "stream",
     "text": [
      "I wrote 3 programs today\n"
     ]
    }
   ],
   "source": [
    "print('I wrote %d programs today' %3.75)"
   ]
  },
  {
   "cell_type": "markdown",
   "id": "1befe987",
   "metadata": {},
   "source": [
    "## Padding and Precision of Floating Point Numbers\n",
    "Floating point numbers use the format %5.2f. Here, 5 would be the minimum number of characters the string should contain; these may be padded with whitespace if the entire number does not have this many digits. Next to this, .2f stands for how many numbers to show past the decimal point. Let's see some examples:"
   ]
  },
  {
   "cell_type": "code",
   "execution_count": 16,
   "id": "c164a2e9",
   "metadata": {},
   "outputs": [
    {
     "name": "stdout",
     "output_type": "stream",
     "text": [
      "floating point number example: 13.44\n"
     ]
    }
   ],
   "source": [
    "print('floating point number example: %5.2f' %(13.443))"
   ]
  },
  {
   "cell_type": "code",
   "execution_count": 17,
   "id": "50862ea3",
   "metadata": {},
   "outputs": [
    {
     "name": "stdout",
     "output_type": "stream",
     "text": [
      "Floating point numbers: 13\n"
     ]
    }
   ],
   "source": [
    "print('Floating point numbers: %1.0f' %(13.144))"
   ]
  },
  {
   "cell_type": "code",
   "execution_count": 18,
   "id": "1c3d009b",
   "metadata": {},
   "outputs": [
    {
     "name": "stdout",
     "output_type": "stream",
     "text": [
      "Floating point numbers: 13.14400\n"
     ]
    }
   ],
   "source": [
    "print('Floating point numbers: %1.5f' %(13.144))"
   ]
  },
  {
   "cell_type": "code",
   "execution_count": 19,
   "id": "7b9febf1",
   "metadata": {},
   "outputs": [
    {
     "name": "stdout",
     "output_type": "stream",
     "text": [
      "Floating point numbers:      13.14\n"
     ]
    }
   ],
   "source": [
    "print('Floating point numbers: %10.2f' %(13.144))"
   ]
  },
  {
   "cell_type": "markdown",
   "id": "e6c70808",
   "metadata": {},
   "source": [
    "## Formatting with the .format() method\n",
    "A better way to format objects into your strings for print statements is with the string .format() method. The syntax is:\n",
    "\n",
    "'String here {} then also {}'.format('something1','something2')\n",
    "\n",
    "For example"
   ]
  },
  {
   "cell_type": "code",
   "execution_count": 20,
   "id": "0d79a1f3",
   "metadata": {},
   "outputs": [
    {
     "name": "stdout",
     "output_type": "stream",
     "text": [
      "hello world\n"
     ]
    }
   ],
   "source": [
    "print('hello {0}'.format('world'))"
   ]
  },
  {
   "cell_type": "code",
   "execution_count": 22,
   "id": "6d7bbeac",
   "metadata": {},
   "outputs": [
    {
     "name": "stdout",
     "output_type": "stream",
     "text": [
      "hello world from python\n"
     ]
    }
   ],
   "source": [
    "print('{1} {0} from python'.format('world','hello'))"
   ]
  },
  {
   "cell_type": "code",
   "execution_count": 23,
   "id": "42a70761",
   "metadata": {},
   "outputs": [
    {
     "name": "stdout",
     "output_type": "stream",
     "text": [
      "helloworldpython\n"
     ]
    }
   ],
   "source": [
    "print('{a} {b} {c}'.format(a='hello',b = 'world',c = 'python'))"
   ]
  },
  {
   "cell_type": "markdown",
   "id": "2461f906",
   "metadata": {},
   "source": [
    "## Alignment, padding and precision with .format()\n",
    "Within the curly braces you can assign field lengths, left/right alignments, rounding parameters and more"
   ]
  },
  {
   "cell_type": "code",
   "execution_count": 32,
   "id": "efbf012c",
   "metadata": {},
   "outputs": [
    {
     "name": "stdout",
     "output_type": "stream",
     "text": [
      "Fruit    | Quantity \n",
      "Apples   |       3.0\n",
      "Oranges  |        10\n"
     ]
    }
   ],
   "source": [
    "print('{0:8} | {1:9}'.format('Fruit', 'Quantity'))\n",
    "print('{0:8} | {1:9}'.format('Apples', 3.))\n",
    "print('{0:8} | {1:9}'.format('Oranges', 10))"
   ]
  },
  {
   "cell_type": "code",
   "execution_count": 38,
   "id": "ba878a96",
   "metadata": {},
   "outputs": [
    {
     "name": "stdout",
     "output_type": "stream",
     "text": [
      "Left     |  Center  |    Right\n",
      "11       |    22    |       33\n"
     ]
    }
   ],
   "source": [
    "## By default, .format() aligns text to the left, numbers to the right. You can pass an optional <,^, or > to set a left, center or right alignment:\n",
    "print('{0:<8} | {1:^8} | {2:>8}'.format('Left','Center','Right'))\n",
    "print('{0:<8} | {1:^8} | {2:>8}'.format(11,22,33))"
   ]
  },
  {
   "cell_type": "code",
   "execution_count": 39,
   "id": "126b2bc3",
   "metadata": {},
   "outputs": [
    {
     "name": "stdout",
     "output_type": "stream",
     "text": [
      "Left==== | -Center- | ...Right\n",
      "11====== | ---22--- | ......33\n"
     ]
    }
   ],
   "source": [
    "print('{0:=<8} | {1:-^8} | {2:.>8}'.format('Left','Center','Right'))\n",
    "print('{0:=<8} | {1:-^8} | {2:.>8}'.format(11,22,33))"
   ]
  },
  {
   "cell_type": "markdown",
   "id": "9c557483",
   "metadata": {},
   "source": [
    "## Formatted String Literals (f-strings)\n",
    "Introduced in Python 3.6, f-strings offer several benefits over the older .format() string method described above. For one, you can bring outside variables immediately into to the string rather than pass them as arguments through .format(var)."
   ]
  },
  {
   "cell_type": "code",
   "execution_count": 40,
   "id": "f830fd51",
   "metadata": {},
   "outputs": [
    {
     "name": "stdout",
     "output_type": "stream",
     "text": [
      "hello this is test\n"
     ]
    }
   ],
   "source": [
    "name = 'test'\n",
    "print(f\"hello this is {name}\")"
   ]
  },
  {
   "cell_type": "code",
   "execution_count": 41,
   "id": "5de3d566",
   "metadata": {},
   "outputs": [
    {
     "name": "stdout",
     "output_type": "stream",
     "text": [
      "hello this is 'test'\n"
     ]
    }
   ],
   "source": [
    "#pass !r to get the string representation\n",
    "print(f\"hello this is {name!r}\")"
   ]
  },
  {
   "cell_type": "markdown",
   "id": "62acc85d",
   "metadata": {},
   "source": [
    "## Float formatting follows \"result: {value:{width}.{precision}}\"\n",
    "Where with the .format() method you might see {value:10.4f}, with f-strings this can become {value:{10}.{6}}"
   ]
  },
  {
   "cell_type": "code",
   "execution_count": 46,
   "id": "57a77916",
   "metadata": {},
   "outputs": [
    {
     "name": "stdout",
     "output_type": "stream",
     "text": [
      "My 10 character, four decimal number is:  23.45679\n",
      "My 10 character, four decimal number is:  23.45679\n"
     ]
    }
   ],
   "source": [
    "num = 23.4567889\n",
    "print(\"My 10 character, four decimal number is:{0:10.5f}\".format(num))\n",
    "print(f\"My 10 character, four decimal number is:{num:{10}.{7}}\")"
   ]
  },
  {
   "cell_type": "markdown",
   "id": "565cfb9b",
   "metadata": {},
   "source": [
    "Note that with f-strings, precision refers to the total number of digits, not just those following the decimal. This fits more closely with scientific notation and statistical analysis. Unfortunately, f-strings do not pad to the right of the decimal, even if precision allows it:"
   ]
  },
  {
   "cell_type": "code",
   "execution_count": 47,
   "id": "22125409",
   "metadata": {},
   "outputs": [
    {
     "name": "stdout",
     "output_type": "stream",
     "text": [
      "My 10 character, four decimal number is:   23.4500\n",
      "My 10 character, four decimal number is:     23.45\n"
     ]
    }
   ],
   "source": [
    "num = 23.45\n",
    "print(\"My 10 character, four decimal number is:{0:10.4f}\".format(num))\n",
    "print(f\"My 10 character, four decimal number is:{num:{10}.{6}}\")"
   ]
  },
  {
   "cell_type": "markdown",
   "id": "6e4ea206",
   "metadata": {},
   "source": [
    "If this becomes important, you can always use .format() method syntax inside an f-string:"
   ]
  },
  {
   "cell_type": "code",
   "execution_count": 55,
   "id": "22a68cf0",
   "metadata": {},
   "outputs": [
    {
     "name": "stdout",
     "output_type": "stream",
     "text": [
      "this is 10 character, four decimal number is:   23.4500\n",
      "this is 10 character, four decimal number is :   23.4500\n"
     ]
    }
   ],
   "source": [
    "num = 23.45\n",
    "print(\"this is 10 character, four decimal number is:{0:10.4f}\".format(num))\n",
    "print(f\"this is 10 character, four decimal number is :{num:10.4f}\")\n"
   ]
  }
 ],
 "metadata": {
  "kernelspec": {
   "display_name": "Python 3 (ipykernel)",
   "language": "python",
   "name": "python3"
  },
  "language_info": {
   "codemirror_mode": {
    "name": "ipython",
    "version": 3
   },
   "file_extension": ".py",
   "mimetype": "text/x-python",
   "name": "python",
   "nbconvert_exporter": "python",
   "pygments_lexer": "ipython3",
   "version": "3.9.7"
  }
 },
 "nbformat": 4,
 "nbformat_minor": 5
}
