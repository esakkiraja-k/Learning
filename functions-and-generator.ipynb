{
 "cells": [
  {
   "cell_type": "markdown",
   "id": "970b01a3",
   "metadata": {},
   "source": [
    "In the previous exercises, you worked with examples of Python functions. If you haven't written one from scratch in a while, writing a function in Python involves a function declaration def that takes one or more values, and a return that returns one or more values. Unlike some other languages, in Python you are not required to specify the data-type of the value your function is going to return.\n",
    "\n",
    "Note: In Python every function returns a value. In case you do not specify a return value explicitly, Python will return None from that function.\n",
    "\n"
   ]
  },
  {
   "cell_type": "code",
   "execution_count": 4,
   "id": "63e84eba",
   "metadata": {},
   "outputs": [
    {
     "name": "stdout",
     "output_type": "stream",
     "text": [
      "10\n"
     ]
    }
   ],
   "source": [
    "# Example function 1: return the sum of two numbers.\n",
    "def sum(num1,num2):\n",
    "    return num1 +num2\n",
    "\n",
    "print(sum(6,4))"
   ]
  },
  {
   "cell_type": "code",
   "execution_count": 16,
   "id": "da0c77fc",
   "metadata": {},
   "outputs": [
    {
     "name": "stdout",
     "output_type": "stream",
     "text": [
      "(3, [3, 4, 5])\n"
     ]
    }
   ],
   "source": [
    "# Example function 2: return the size of list, and modify the list to now be sorted.\n",
    "def list_sort(my_list):\n",
    "    my_list.sort()\n",
    "    return len(my_list),my_list\n",
    "\n",
    "print(list_sort([4,5,3]))"
   ]
  },
  {
   "cell_type": "markdown",
   "id": "4081e547",
   "metadata": {},
   "source": [
    "Python Generators\n",
    "A generator in Python is similar to a function except instead of returning a value and exiting a process, a generator will pause the process, saving its state for next time. The biggest difference between a function and generator from a code perspective is one word: return is changed to yield.\n",
    "\n",
    "A generator becomes very useful when dealing with very large collections of data that you don’t want to store in memory all at once. It’s also very useful for dealing with extremely large or even infinite series.\n",
    "\n",
    "Below is an example of how to use a generator to print even numbers. Printing all even numbers at once would take an infinite amount of time, but the generator allows the process to pause, and go back to creating even numbers when needed.\n",
    "\n",
    "To create the next successive even number simply call next() on the generator object, and it will yield the next iteration. After yield is called, everything in the state of the generator function freezes, and the value is returned. When the generator is called again with next(), it picks back up right where it stopped at yield from before."
   ]
  },
  {
   "cell_type": "code",
   "execution_count": 19,
   "id": "fa4b34c9",
   "metadata": {},
   "outputs": [
    {
     "name": "stdout",
     "output_type": "stream",
     "text": [
      "0\n",
      "2\n",
      "4\n",
      "6\n",
      "8\n",
      "hello world!!\n",
      "10\n",
      "12\n",
      "14\n",
      "16\n",
      "18\n",
      "20\n",
      "22\n",
      "24\n",
      "26\n",
      "28\n"
     ]
    }
   ],
   "source": [
    "# Definition of the generator to produce even numbers.\n",
    "def all_even():\n",
    "    n = 0\n",
    "    while(True):\n",
    "        yield n\n",
    "        n += 2\n",
    "\n",
    "my_even_gen = all_even()\n",
    "\n",
    "# Generate the first 5 even numbers.\n",
    "for item in range(5):\n",
    "    print(next(my_even_gen))\n",
    "\n",
    "# do someting\n",
    "print('hello world!!')\n",
    "\n",
    "for item in range(10):\n",
    "    print(next(my_even_gen))"
   ]
  },
  {
   "cell_type": "code",
   "execution_count": 28,
   "id": "a21be9f4",
   "metadata": {},
   "outputs": [
    {
     "name": "stdout",
     "output_type": "stream",
     "text": [
      "1\n",
      "2\n",
      "6\n",
      "24\n",
      "120\n"
     ]
    }
   ],
   "source": [
    "def prod(a,b):\n",
    "    # TODO change output to the product of a and b\n",
    "    return a * b;\n",
    "\n",
    "def fact_gen():\n",
    "    i = 1\n",
    "    n = i\n",
    "    while True:\n",
    "        output = prod(n, i)\n",
    "        yield output\n",
    "        i += 1\n",
    "        n  = output \n",
    "        # TODO: update i and n\n",
    "        # Hint: i is a successive integer and n is the previous product\n",
    "\n",
    "\n",
    "# Test block\n",
    "my_gen = fact_gen()\n",
    "num = 5\n",
    "for i in range(num):\n",
    "    print(next(my_gen))\n",
    "\n",
    "# Correct result when num = 5:\n",
    "# 1\n",
    "# 2\n",
    "# 6\n",
    "# 24\n",
    "# 120\n"
   ]
  },
  {
   "cell_type": "code",
   "execution_count": 41,
   "id": "4e89eea2",
   "metadata": {},
   "outputs": [
    {
     "name": "stdout",
     "output_type": "stream",
     "text": [
      "5\n",
      "5\n",
      "5\n",
      "5\n",
      "True\n"
     ]
    }
   ],
   "source": [
    "# An example solution for the check_sudoku() function\n",
    "\n",
    "def check_sudoku(square):\n",
    "    for row in square:\n",
    "        # Create a list with the integers 1, 2, ..., n.\n",
    "        # We will check that each number in the row is in the list\n",
    "        # and remove the numbers from the list once they are verified\n",
    "        # to ensure that each number only occurs once in the row.\n",
    "        check_list = list(range(1, len(square[0]) + 1))        \n",
    "        print(len(square[0]) + 1)\n",
    "        for i in row:\n",
    "            if i not in check_list:\n",
    "                return False\n",
    "            check_list.remove(i)\n",
    "    for n in range(len(square[0])):        \n",
    "        # We do the same here for each column in the square.\n",
    "        check_list = list(range(1, len(square[0]) + 1))\n",
    "        for row in square:\n",
    "            if row[n] not in check_list:\n",
    "                return False\n",
    "            check_list.remove(row[n])\n",
    "    return True\n",
    "\n",
    "\n",
    "\n",
    "correct6 = [[1,2,3,4],\n",
    "             [2,3,4,1],\n",
    "             [3,4,1,2],\n",
    "             [4,1,2,3]]\n",
    "print(check_sudoku(correct6))"
   ]
  }
 ],
 "metadata": {
  "kernelspec": {
   "display_name": "Python 3 (ipykernel)",
   "language": "python",
   "name": "python3"
  },
  "language_info": {
   "codemirror_mode": {
    "name": "ipython",
    "version": 3
   },
   "file_extension": ".py",
   "mimetype": "text/x-python",
   "name": "python",
   "nbconvert_exporter": "python",
   "pygments_lexer": "ipython3",
   "version": "3.9.7"
  }
 },
 "nbformat": 4,
 "nbformat_minor": 5
}
