{
 "cells": [
  {
   "cell_type": "markdown",
   "id": "189535a9",
   "metadata": {},
   "source": [
    "Strings Exercises\n",
    "Intro\n",
    "Strings in Python are arrays of bytes representing unicode characters. In this exercise we are going to practice our work with string manipulation.\n",
    "\n",
    "Reverse Strings\n",
    "In this first exercise, the goal is to write a function that takes a string as input and then returns the reversed string.\n",
    "\n",
    "For example, if the input is the string \"water\", then the output should be \"retaw\".\n",
    "\n",
    "While you're working on the function and trying to figure out how to manipulate the string, it may help to use the print statement so you can see the effects of whatever you're trying."
   ]
  },
  {
   "cell_type": "code",
   "execution_count": null,
   "id": "d2fc3a86",
   "metadata": {},
   "outputs": [],
   "source": []
  },
  {
   "cell_type": "code",
   "execution_count": 18,
   "id": "a2402103",
   "metadata": {},
   "outputs": [
    {
     "name": "stdout",
     "output_type": "stream",
     "text": [
      "pass\n"
     ]
    }
   ],
   "source": [
    "def reverse_string(input):\n",
    "    \n",
    "    str_pos = len(input) - 1;\n",
    "    new_str = ''\n",
    "    while(str_pos >= 0):\n",
    "        new_str += input[str_pos]\n",
    "        str_pos -= 1\n",
    "    \n",
    "    return new_str\n",
    "\n",
    "\n",
    "print(\"pass\" if('olleh' == reverse_string('hello')) else \"fail\")"
   ]
  },
  {
   "cell_type": "markdown",
   "id": "40dcf35c",
   "metadata": {},
   "source": [
    "Anagrams\n",
    "The goal of this exercise is to write some code to determine if two strings are anagrams of each other.\n",
    "\n",
    "An anagram is a word (or phrase) that is formed by rearranging the letters of another word (or phrase).\n",
    "\n",
    "For example:\n",
    "\n",
    "\"rat\" is an anagram of \"art\"\n",
    "\"alert\" is an anagram of \"alter\"\n",
    "\"Slot machines\" is an anagram of \"Cash lost in me\"\n",
    "Your function should take two strings as input and return True if the two words are anagrams and False if they are not.\n",
    "\n",
    "You can assume the following about the input strings:\n",
    "\n",
    "No punctuation\n",
    "No numbers\n",
    "No special characters"
   ]
  },
  {
   "cell_type": "code",
   "execution_count": 5,
   "id": "221f2400",
   "metadata": {},
   "outputs": [
    {
     "name": "stdout",
     "output_type": "stream",
     "text": [
      "Fail\n",
      "Pass\n",
      "Pass\n",
      "Pass\n",
      "Pass\n"
     ]
    }
   ],
   "source": [
    "def anagram_checker(str1,str2):\n",
    "    str1 = str1.lower()\n",
    "    str2 = str2.lower()\n",
    "    \n",
    "    for character in str1:\n",
    "        if character == ' ':\n",
    "            pass\n",
    "        elif character in str2:\n",
    "             str2 = str2.replace(character,'',1)\n",
    "        else:\n",
    "            return False\n",
    "    \n",
    "    if len(str2.replace(' ','')) == 0:\n",
    "        return True\n",
    "    else:\n",
    "        return False\n",
    "\n",
    "#test cases\n",
    "\n",
    "print (\"Pass\" if anagram_checker('Dormitory','Dirty room') else \"Fail\")\n"
   ]
  },
  {
   "cell_type": "code",
   "execution_count": 11,
   "id": "5637e042",
   "metadata": {},
   "outputs": [
    {
     "name": "stdout",
     "output_type": "stream",
     "text": [
      "Pass\n",
      "Pass\n",
      "Pass\n",
      "Pass\n",
      "Pass\n"
     ]
    }
   ],
   "source": [
    "def anagram_check2(str1,str2):\n",
    "    if len(str1) != len(str2):\n",
    "        #clean string\n",
    "        clean_str1 = str1.replace(\" \",\"\").lower()\n",
    "        clean_str2 = str2.replace(\" \",\"\").lower()\n",
    "        \n",
    "        if sorted(clean_str_1) == sorted(clean_str_2):\n",
    "            return True\n",
    "    \n",
    "    return False\n",
    "\n",
    "print (\"Pass\" if not (anagram_checker('test1','test')) else \"Fail\")\n",
    "print (\"Pass\" if anagram_checker('test','test') else \"Fail\")\n",
    "print (\"Pass\" if anagram_checker('Slot machines', 'Cash lost in me') else \"Fail\")\n",
    "print (\"Pass\" if not (anagram_checker('A gentleman','Elegant men')) else \"Fail\")\n",
    "print (\"Pass\" if anagram_checker('Time and tide wait for no man','Notified madman into water') else \"Fail\")"
   ]
  }
 ],
 "metadata": {
  "kernelspec": {
   "display_name": "Python 3 (ipykernel)",
   "language": "python",
   "name": "python3"
  },
  "language_info": {
   "codemirror_mode": {
    "name": "ipython",
    "version": 3
   },
   "file_extension": ".py",
   "mimetype": "text/x-python",
   "name": "python",
   "nbconvert_exporter": "python",
   "pygments_lexer": "ipython3",
   "version": "3.9.7"
  }
 },
 "nbformat": 4,
 "nbformat_minor": 5
}
