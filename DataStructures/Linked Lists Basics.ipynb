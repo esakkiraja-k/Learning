{
 "cells": [
  {
   "cell_type": "code",
   "execution_count": 2,
   "id": "514d396b",
   "metadata": {},
   "outputs": [],
   "source": [
    "#Singly Linked List\n",
    "#each node in the list is connected to next node in the list\n",
    "#This connection is implemented by setting the next attribute on a node object itself.\n",
    "\n",
    "class Node:\n",
    "    def __init__(self,value):\n",
    "        self.value = value\n",
    "        self.next = None\n",
    "        \n"
   ]
  },
  {
   "cell_type": "code",
   "execution_count": 3,
   "id": "cb7dc80d",
   "metadata": {},
   "outputs": [],
   "source": [
    "#small linked list example\n",
    "head = Node(1)\n",
    "head.next = Node(2)\n"
   ]
  },
  {
   "cell_type": "code",
   "execution_count": 14,
   "id": "7d32483f",
   "metadata": {},
   "outputs": [],
   "source": [
    "#usually we create a linkedlist class as a wrapper for the nodes and provide a method to add value\n",
    "#Method Append() - runs in linear time - O(N)(need to iterate entire list to get the tail node and \n",
    "#append it)\n",
    "# Prepend() - O(1) - adding to the head of the list.\n",
    "\n",
    "class LinkedList:\n",
    "    def __init__(self):\n",
    "        self.head = head\n",
    "    \n",
    "    def append(self,value):\n",
    "        if self.head is None:\n",
    "            self.head = Node(value)\n",
    "            return\n",
    "        #move to tail and add it\n",
    "        node = self.head\n",
    "        while node.next:\n",
    "            node = node.next\n",
    "            \n",
    "        node.next = Node(value)\n",
    "        return\n",
    "\n",
    "    def to_list(self):\n",
    "        node_values = []\n",
    "        node = self.head\n",
    "        while node:\n",
    "            node_values.append(node.value)\n",
    "            node = node.next        \n",
    "        return node_values"
   ]
  },
  {
   "cell_type": "code",
   "execution_count": 15,
   "id": "2a82735e",
   "metadata": {},
   "outputs": [
    {
     "name": "stdout",
     "output_type": "stream",
     "text": [
      "1\n",
      "2\n",
      "1\n",
      "2\n",
      "3\n",
      "1\n",
      "2\n",
      "3\n",
      "1\n",
      "2\n",
      "3\n",
      "1\n",
      "2\n",
      "3\n",
      "4\n",
      "1\n",
      "2\n",
      "3\n",
      "4\n",
      "[1, 2, 1, 2, 3, 1, 2, 3, 1, 2, 3, 1, 2, 3, 4, 1, 2, 3, 4]\n"
     ]
    }
   ],
   "source": [
    "linked_list = LinkedList();\n",
    "linked_list.append(1)\n",
    "linked_list.append(2)\n",
    "linked_list.append(3)\n",
    "linked_list.append(4)\n",
    "\n",
    "node = linked_list.head\n",
    "while node:\n",
    "    print(node.value)\n",
    "    node = node.next\n",
    "\n",
    "print(linked_list.to_list())"
   ]
  }
 ],
 "metadata": {
  "kernelspec": {
   "display_name": "Python 3 (ipykernel)",
   "language": "python",
   "name": "python3"
  },
  "language_info": {
   "codemirror_mode": {
    "name": "ipython",
    "version": 3
   },
   "file_extension": ".py",
   "mimetype": "text/x-python",
   "name": "python",
   "nbconvert_exporter": "python",
   "pygments_lexer": "ipython3",
   "version": "3.9.7"
  }
 },
 "nbformat": 4,
 "nbformat_minor": 5
}
